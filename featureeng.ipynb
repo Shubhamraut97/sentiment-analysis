{
 "cells": [
  {
   "cell_type": "code",
   "execution_count": 1,
   "id": "6ce973c3",
   "metadata": {},
   "outputs": [],
   "source": [
    "import mlflow\n",
    "import mlflow.sklearn"
   ]
  },
  {
   "cell_type": "code",
   "execution_count": 4,
   "id": "3e30b81f",
   "metadata": {},
   "outputs": [
    {
     "data": {
      "text/html": [
       "<pre style=\"white-space:pre;overflow-x:auto;line-height:normal;font-family:Menlo,'DejaVu Sans Mono',consolas,'Courier New',monospace\">Accessing as Shubhamraut97\n",
       "</pre>\n"
      ],
      "text/plain": [
       "Accessing as Shubhamraut97\n"
      ]
     },
     "metadata": {},
     "output_type": "display_data"
    },
    {
     "data": {
      "text/html": [
       "<pre style=\"white-space:pre;overflow-x:auto;line-height:normal;font-family:Menlo,'DejaVu Sans Mono',consolas,'Courier New',monospace\">Initialized MLflow to track repo <span style=\"color: #008000; text-decoration-color: #008000\">\"Shubhamraut97/experemntracking\"</span>\n",
       "</pre>\n"
      ],
      "text/plain": [
       "Initialized MLflow to track repo \u001b[32m\"Shubhamraut97/experemntracking\"\u001b[0m\n"
      ]
     },
     "metadata": {},
     "output_type": "display_data"
    },
    {
     "data": {
      "text/html": [
       "<pre style=\"white-space:pre;overflow-x:auto;line-height:normal;font-family:Menlo,'DejaVu Sans Mono',consolas,'Courier New',monospace\">Repository Shubhamraut97/experemntracking initialized!\n",
       "</pre>\n"
      ],
      "text/plain": [
       "Repository Shubhamraut97/experemntracking initialized!\n"
      ]
     },
     "metadata": {},
     "output_type": "display_data"
    }
   ],
   "source": [
    "import dagshub\n",
    "dagshub.init(repo_owner='Shubhamraut97', repo_name='experemntracking', mlflow=True)"
   ]
  },
  {
   "cell_type": "code",
   "execution_count": 2,
   "id": "358bf456",
   "metadata": {},
   "outputs": [],
   "source": [
    "mlflow.set_tracking_uri(\"https://dagshub.com/Shubhamraut97/experemntracking.mlflow\")"
   ]
  },
  {
   "cell_type": "code",
   "execution_count": null,
   "id": "f586882f",
   "metadata": {},
   "outputs": [
    {
     "name": "stderr",
     "output_type": "stream",
     "text": [
      "2025/07/26 19:38:37 INFO mlflow.tracking.fluent: Experiment with name 'bog vs tfidf' does not exist. Creating a new experiment.\n"
     ]
    },
    {
     "data": {
      "text/plain": [
       "<Experiment: artifact_location='mlflow-artifacts:/ee4afdf38362468f98c2d0c194ce97e4', creation_time=1753538017319, experiment_id='2', last_update_time=1753538017319, lifecycle_stage='active', name='bog vs tfidf', tags={}>"
      ]
     },
     "execution_count": 5,
     "metadata": {},
     "output_type": "execute_result"
    }
   ],
   "source": [
    "mlflow.set_experiment(\"bog vs tfidf\")"
   ]
  },
  {
   "cell_type": "code",
   "execution_count": null,
   "id": "ea7dddbd",
   "metadata": {},
   "outputs": [],
   "source": [
    "from sklearn.feature_extraction.text import TfidfVectorizer\n",
    "from sklearn.feature_extraction.text import CountVectorizer\n",
    "from sklearn.ensemble import RandomForestClassifier\n",
    "from sklearn.model_selection import train_test_split\n",
    "from sklearn.metrics import accuracy_score, classification_report, confusion_matrix\n",
    "import pandas as pd\n",
    "import numpy as np\n",
    "import seaborn as sns\n",
    "import matplotlib.pyplot as plt"
   ]
  },
  {
   "cell_type": "code",
   "execution_count": 7,
   "id": "20fe2c5e",
   "metadata": {},
   "outputs": [],
   "source": [
    "df=pd.read_csv('processed_data.csv').dropna(subset=['clean_comment'])"
   ]
  },
  {
   "cell_type": "code",
   "execution_count": 8,
   "id": "b4095ac3",
   "metadata": {},
   "outputs": [
    {
     "data": {
      "text/plain": [
       "(36661, 2)"
      ]
     },
     "execution_count": 8,
     "metadata": {},
     "output_type": "execute_result"
    }
   ],
   "source": [
    "df.shape"
   ]
  },
  {
   "cell_type": "code",
   "execution_count": null,
   "id": "18a149ea",
   "metadata": {},
   "outputs": [
    {
     "name": "stdout",
     "output_type": "stream",
     "text": [
      "✅ Completed: tfidf_1_1 | Accuracy: 0.6521\n",
      "🏃 View run righteous-stoat-247 at: https://dagshub.com/Shubhamraut97/experemntracking.mlflow/#/experiments/2/runs/4765aafe88da477290e2f6ee3fdaac46\n",
      "🧪 View experiment at: https://dagshub.com/Shubhamraut97/experemntracking.mlflow/#/experiments/2\n",
      "✅ Completed: bow_1_1 | Accuracy: 0.6513\n",
      "🏃 View run bustling-toad-17 at: https://dagshub.com/Shubhamraut97/experemntracking.mlflow/#/experiments/2/runs/5878eef467804c19aa58f7199c96483e\n",
      "🧪 View experiment at: https://dagshub.com/Shubhamraut97/experemntracking.mlflow/#/experiments/2\n",
      "✅ Completed: tfidf_1_2 | Accuracy: 0.6557\n",
      "🏃 View run indecisive-midge-635 at: https://dagshub.com/Shubhamraut97/experemntracking.mlflow/#/experiments/2/runs/3cf750109d6c46d2ac1428569884901e\n",
      "🧪 View experiment at: https://dagshub.com/Shubhamraut97/experemntracking.mlflow/#/experiments/2\n",
      "✅ Completed: bow_1_2 | Accuracy: 0.6542\n",
      "🏃 View run illustrious-tern-675 at: https://dagshub.com/Shubhamraut97/experemntracking.mlflow/#/experiments/2/runs/d26403428cb94301aef57aa3014bdcbf\n",
      "🧪 View experiment at: https://dagshub.com/Shubhamraut97/experemntracking.mlflow/#/experiments/2\n",
      "✅ Completed: tfidf_1_3 | Accuracy: 0.6482\n",
      "🏃 View run mercurial-ray-265 at: https://dagshub.com/Shubhamraut97/experemntracking.mlflow/#/experiments/2/runs/4bba5be8fcdb4c4691f4b401ee94ff52\n",
      "🧪 View experiment at: https://dagshub.com/Shubhamraut97/experemntracking.mlflow/#/experiments/2\n",
      "✅ Completed: bow_1_3 | Accuracy: 0.6478\n",
      "🏃 View run glamorous-snail-469 at: https://dagshub.com/Shubhamraut97/experemntracking.mlflow/#/experiments/2/runs/f6736209da1b461daab4eb4b754b9d33\n",
      "🧪 View experiment at: https://dagshub.com/Shubhamraut97/experemntracking.mlflow/#/experiments/2\n"
     ]
    }
   ],
   "source": [
    "import os\n",
    "import joblib\n",
    "def run_experiment(vectorizer_type, ngram_range, vectorizer_max_features, vectorizer_name):\n",
    "    if vectorizer_type == 'tfidf':\n",
    "        vectorizer = TfidfVectorizer(ngram_range=ngram_range, max_features=vectorizer_max_features)\n",
    "    elif vectorizer_type == 'bow':\n",
    "        vectorizer = CountVectorizer(ngram_range=ngram_range, max_features=vectorizer_max_features)\n",
    "    else:\n",
    "        raise ValueError(\"Invalid vectorizer type. Choose 'tfidf' or 'bow'.\")\n",
    "\n",
    "    X = vectorizer.fit_transform(df['clean_comment'])\n",
    "    y = df['category']\n",
    "    X_train, X_test, y_train, y_test = train_test_split(X, y, test_size=0.2, random_state=42)\n",
    "\n",
    "    with mlflow.start_run():\n",
    "        mlflow.log_param(\"vectorizer_type\", vectorizer_type)\n",
    "        mlflow.log_param(\"ngram_range\", ngram_range)\n",
    "        mlflow.log_param(\"vectorizer_max_features\", vectorizer_max_features)\n",
    "        mlflow.set_tag(\"experiment_type\", \"feature_engineering\")\n",
    "        mlflow.set_tag(\"model_type\", \"RandomForestClassifier\")\n",
    "        mlflow.set_tag(\"vectorizer_name\", vectorizer_name)\n",
    "\n",
    "        n_estimators = 200\n",
    "        max_depth = 15\n",
    "        mlflow.log_param(\"n_estimators\", n_estimators)\n",
    "        mlflow.log_param(\"max_depth\", max_depth)\n",
    "\n",
    "        model = RandomForestClassifier(n_estimators=n_estimators, max_depth=max_depth, random_state=42)\n",
    "        model.fit(X_train, y_train)\n",
    "\n",
    "        y_pred = model.predict(X_test)\n",
    "        accuracy = accuracy_score(y_test, y_pred)\n",
    "        mlflow.log_metric(\"accuracy\", accuracy)\n",
    "\n",
    "        classification_rep = classification_report(y_test, y_pred, output_dict=True)\n",
    "        for label, metrics in classification_rep.items():\n",
    "            if isinstance(metrics, dict):\n",
    "                for metric_name, value in metrics.items():\n",
    "                    mlflow.log_metric(f\"{label}_{metric_name}\", value)\n",
    "\n",
    "        conf_matrix = confusion_matrix(y_test, y_pred)\n",
    "        plt.figure(figsize=(10, 7))\n",
    "        sns.heatmap(conf_matrix, annot=True, fmt='d', cmap='Blues')\n",
    "        plt.title(f'Confusion Matrix - {vectorizer_name}')\n",
    "        plt.xlabel('Predicted')\n",
    "        plt.ylabel('Actual')\n",
    "        plot_path = f'confusion_matrix_{vectorizer_name}.png'\n",
    "        plt.savefig(plot_path)\n",
    "        plt.close()\n",
    "        mlflow.log_artifact(plot_path)\n",
    "        os.remove(plot_path)\n",
    "\n",
    "        model_filename = f\"{vectorizer_name}_model.pkl\"\n",
    "        joblib.dump(model, model_filename)\n",
    "        mlflow.log_artifact(model_filename)\n",
    "        os.remove(model_filename)\n",
    "\n",
    "        # Optional: save and log processed data\n",
    "        # data_path = f\"processed_data_{vectorizer_name}.csv\"\n",
    "        # df.to_csv(data_path, index=False)\n",
    "        # mlflow.log_artifact(data_path)\n",
    "        # os.remove(data_path)\n",
    "\n",
    "        print(f\"✅ Completed: {vectorizer_name} | Accuracy: {accuracy:.4f}\")\n",
    "\n",
    "# Example usage:\n",
    "n_gram_ranges = [(1, 1), (1, 2), (1, 3)]\n",
    "max_features = 5000\n",
    "\n",
    "for ngram_range in n_gram_ranges:\n",
    "    for vectorizer_type in ['tfidf', 'bow']:\n",
    "        vec_name = f\"{vectorizer_type}_{ngram_range[0]}_{ngram_range[1]}\"\n",
    "        run_experiment(vectorizer_type, ngram_range, max_features, vec_name)"
   ]
  },
  {
   "cell_type": "code",
   "execution_count": null,
   "id": "cb18872c",
   "metadata": {},
   "outputs": [],
   "source": []
  },
  {
   "cell_type": "code",
   "execution_count": null,
   "id": "aa8d35a5",
   "metadata": {},
   "outputs": [],
   "source": []
  },
  {
   "cell_type": "code",
   "execution_count": null,
   "id": "e7f1fd32",
   "metadata": {},
   "outputs": [],
   "source": []
  },
  {
   "cell_type": "code",
   "execution_count": null,
   "id": "b9b88fb1",
   "metadata": {},
   "outputs": [],
   "source": []
  },
  {
   "cell_type": "code",
   "execution_count": null,
   "id": "c816f770",
   "metadata": {},
   "outputs": [],
   "source": []
  }
 ],
 "metadata": {
  "kernelspec": {
   "display_name": "venv",
   "language": "python",
   "name": "python3"
  },
  "language_info": {
   "codemirror_mode": {
    "name": "ipython",
    "version": 3
   },
   "file_extension": ".py",
   "mimetype": "text/x-python",
   "name": "python",
   "nbconvert_exporter": "python",
   "pygments_lexer": "ipython3",
   "version": "3.12.0"
  }
 },
 "nbformat": 4,
 "nbformat_minor": 5
}
