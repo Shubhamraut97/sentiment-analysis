{
 "cells": [
  {
   "cell_type": "code",
   "execution_count": 1,
   "id": "334d9dd8",
   "metadata": {},
   "outputs": [],
   "source": [
    "import mlflow"
   ]
  },
  {
   "cell_type": "code",
   "execution_count": null,
   "id": "8bf82aba",
   "metadata": {},
   "outputs": [],
   "source": []
  },
  {
   "cell_type": "code",
   "execution_count": 2,
   "id": "a8e6bdb1",
   "metadata": {},
   "outputs": [
    {
     "data": {
      "text/html": [
       "<pre style=\"white-space:pre;overflow-x:auto;line-height:normal;font-family:Menlo,'DejaVu Sans Mono',consolas,'Courier New',monospace\">Accessing as Shubhamraut97\n",
       "</pre>\n"
      ],
      "text/plain": [
       "Accessing as Shubhamraut97\n"
      ]
     },
     "metadata": {},
     "output_type": "display_data"
    },
    {
     "data": {
      "text/html": [
       "<pre style=\"white-space:pre;overflow-x:auto;line-height:normal;font-family:Menlo,'DejaVu Sans Mono',consolas,'Courier New',monospace\">Initialized MLflow to track repo <span style=\"color: #008000; text-decoration-color: #008000\">\"Shubhamraut97/experemntracking\"</span>\n",
       "</pre>\n"
      ],
      "text/plain": [
       "Initialized MLflow to track repo \u001b[32m\"Shubhamraut97/experemntracking\"\u001b[0m\n"
      ]
     },
     "metadata": {},
     "output_type": "display_data"
    },
    {
     "data": {
      "text/html": [
       "<pre style=\"white-space:pre;overflow-x:auto;line-height:normal;font-family:Menlo,'DejaVu Sans Mono',consolas,'Courier New',monospace\">Repository Shubhamraut97/experemntracking initialized!\n",
       "</pre>\n"
      ],
      "text/plain": [
       "Repository Shubhamraut97/experemntracking initialized!\n"
      ]
     },
     "metadata": {},
     "output_type": "display_data"
    }
   ],
   "source": [
    "import dagshub\n",
    "dagshub.init(repo_owner='Shubhamraut97', repo_name='experemntracking', mlflow=True)"
   ]
  },
  {
   "cell_type": "code",
   "execution_count": 3,
   "id": "6fb9e710",
   "metadata": {},
   "outputs": [],
   "source": [
    "mlflow.set_tracking_uri(\"https://dagshub.com/Shubhamraut97/experemntracking.mlflow\")"
   ]
  },
  {
   "cell_type": "code",
   "execution_count": 4,
   "id": "fa96789b",
   "metadata": {},
   "outputs": [],
   "source": [
    "from imblearn.under_sampling import RandomUnderSampler\n",
    "from imblearn.over_sampling import SMOTE,ADASYN\n",
    "from imblearn.combine import SMOTEENN\n",
    "from sklearn.feature_extraction.text import TfidfVectorizer\n",
    "from sklearn.ensemble import RandomForestClassifier\n",
    "from sklearn.model_selection import train_test_split\n",
    "from sklearn.metrics import accuracy_score, classification_report, confusion_matrix\n",
    "import pandas as pd\n",
    "import numpy as np\n",
    "import os\n",
    "import seaborn as sns\n",
    "import matplotlib.pyplot as plt\n",
    "import mlflow.sklearn\n"
   ]
  },
  {
   "cell_type": "code",
   "execution_count": 5,
   "id": "4e1be720",
   "metadata": {},
   "outputs": [
    {
     "name": "stderr",
     "output_type": "stream",
     "text": [
      "2025/07/28 19:00:34 INFO mlflow.tracking.fluent: Experiment with name 'Imbalanced Data Handling Experiment v2' does not exist. Creating a new experiment.\n"
     ]
    },
    {
     "data": {
      "text/plain": [
       "<Experiment: artifact_location='mlflow-artifacts:/7fd935efa4254264a8887e973a006745', creation_time=1753708534637, experiment_id='8', last_update_time=1753708534637, lifecycle_stage='active', name='Imbalanced Data Handling Experiment v2', tags={}>"
      ]
     },
     "execution_count": 5,
     "metadata": {},
     "output_type": "execute_result"
    }
   ],
   "source": [
    "mlflow.set_experiment(\"Imbalanced Data Handling Experiment v2\")"
   ]
  },
  {
   "cell_type": "code",
   "execution_count": 6,
   "id": "aa89bb26",
   "metadata": {},
   "outputs": [
    {
     "data": {
      "text/plain": [
       "(36661, 2)"
      ]
     },
     "execution_count": 6,
     "metadata": {},
     "output_type": "execute_result"
    }
   ],
   "source": [
    "df=pd.read_csv('processed_data.csv').dropna(subset=['clean_comment'])\n",
    "df.shape"
   ]
  },
  {
   "cell_type": "code",
   "execution_count": 7,
   "id": "6ce84939",
   "metadata": {},
   "outputs": [
    {
     "name": "stdout",
     "output_type": "stream",
     "text": [
      "🏃 View run class_weight_run at: https://dagshub.com/Shubhamraut97/experemntracking.mlflow/#/experiments/5/runs/771f0977e7ef429186a2e0d0fccbe20b\n",
      "🧪 View experiment at: https://dagshub.com/Shubhamraut97/experemntracking.mlflow/#/experiments/5\n",
      "🏃 View run oversampling_run at: https://dagshub.com/Shubhamraut97/experemntracking.mlflow/#/experiments/5/runs/cd2aa88135944cce8817c618edb4b7b9\n",
      "🧪 View experiment at: https://dagshub.com/Shubhamraut97/experemntracking.mlflow/#/experiments/5\n",
      "🏃 View run undersampling_run at: https://dagshub.com/Shubhamraut97/experemntracking.mlflow/#/experiments/5/runs/89cdfd8f3bb44dee9df69db2d52f105c\n",
      "🧪 View experiment at: https://dagshub.com/Shubhamraut97/experemntracking.mlflow/#/experiments/5\n",
      "🏃 View run smoteenn_run at: https://dagshub.com/Shubhamraut97/experemntracking.mlflow/#/experiments/5/runs/a195257d85f54c9db6834c41553bf246\n",
      "🧪 View experiment at: https://dagshub.com/Shubhamraut97/experemntracking.mlflow/#/experiments/5\n",
      "🏃 View run adasyn_run at: https://dagshub.com/Shubhamraut97/experemntracking.mlflow/#/experiments/5/runs/cd26259ac7a247fc80c92b3bf90ad0b8\n",
      "🧪 View experiment at: https://dagshub.com/Shubhamraut97/experemntracking.mlflow/#/experiments/5\n"
     ]
    }
   ],
   "source": [
    "def run_imbalanced_exp(imbalance_method):\n",
    "    ngram_range = (1, 3)\n",
    "    max_features = 10000\n",
    "\n",
    "    vectorizer = TfidfVectorizer(ngram_range=ngram_range, max_features=max_features)\n",
    "\n",
    "    X = df['clean_comment']\n",
    "    y = df['category']\n",
    "\n",
    "    # Initial split (before vectorization)\n",
    "    X_train_raw, X_test_raw, y_train, y_test = train_test_split(\n",
    "        X, y, test_size=0.2, random_state=42, stratify=y\n",
    "    )\n",
    "\n",
    "    # Vectorize\n",
    "    X_train_vectorized = vectorizer.fit_transform(X_train_raw)\n",
    "    X_test_vectorized = vectorizer.transform(X_test_raw)\n",
    "\n",
    "    mlflow_sampler = 'None'\n",
    "    class_weight = None\n",
    "\n",
    "    # Handle imbalance\n",
    "    if imbalance_method == 'class_weight':\n",
    "        class_weight = 'balanced'\n",
    "        X_train_final = X_train_vectorized\n",
    "        y_train_final = y_train\n",
    "\n",
    "    else:\n",
    "        if imbalance_method == 'oversampling':\n",
    "            sampler = SMOTE(random_state=42)\n",
    "            mlflow_sampler = 'SMOTE'\n",
    "        elif imbalance_method == 'undersampling':\n",
    "            sampler = RandomUnderSampler(random_state=42)\n",
    "            mlflow_sampler = 'RandomUnderSampler'\n",
    "        elif imbalance_method == 'smoteenn':\n",
    "            sampler = SMOTEENN(random_state=42)\n",
    "            mlflow_sampler = 'SMOTEENN'\n",
    "        elif imbalance_method == 'adasyn':\n",
    "            sampler = ADASYN(random_state=42)\n",
    "            mlflow_sampler = 'ADASYN'\n",
    "        else:\n",
    "            sampler = None\n",
    "\n",
    "        if sampler:\n",
    "            X_train_final, y_train_final = sampler.fit_resample(X_train_vectorized, y_train)\n",
    "        else:\n",
    "            X_train_final, y_train_final = X_train_vectorized, y_train\n",
    "\n",
    "    # Set up MLflow experiment\n",
    "    mlflow.set_experiment(\"imbalanced_experiment\")\n",
    "    with mlflow.start_run(run_name=f\"{imbalance_method}_run\"):\n",
    "        mlflow.set_tag(\"imbalance_method\", imbalance_method)\n",
    "        mlflow.set_tag(\"experiment_type\", \"imbalanced_handling\")\n",
    "        mlflow.log_param(\"ngram_range\", ngram_range)\n",
    "        mlflow.log_param(\"max_features\", max_features)\n",
    "        mlflow.log_param(\"class_weight\", class_weight)\n",
    "        mlflow.log_param(\"imbalance_sampler\", mlflow_sampler)\n",
    "\n",
    "        # Model parameters\n",
    "        n_estimators = 200\n",
    "        max_depth = 15\n",
    "        mlflow.log_param(\"n_estimators\", n_estimators)\n",
    "        mlflow.log_param(\"max_depth\", max_depth)\n",
    "\n",
    "        # Train model\n",
    "        model = RandomForestClassifier(\n",
    "            n_estimators=n_estimators,\n",
    "            max_depth=max_depth,\n",
    "            random_state=42,\n",
    "            class_weight=class_weight\n",
    "        )\n",
    "        model.fit(X_train_final, y_train_final)\n",
    "        y_pred = model.predict(X_test_vectorized)\n",
    "\n",
    "        # Log metrics\n",
    "        accuracy = accuracy_score(y_test, y_pred)\n",
    "        mlflow.log_metric(\"accuracy\", accuracy)\n",
    "\n",
    "        class_report = classification_report(y_test, y_pred, output_dict=True)\n",
    "        for label, metrics in class_report.items():\n",
    "            if isinstance(metrics, dict):\n",
    "                for metric_name, value in metrics.items():\n",
    "                    mlflow.log_metric(f\"{label}_{metric_name}\", value)\n",
    "\n",
    "        # Confusion Matrix\n",
    "        cm = confusion_matrix(y_test, y_pred)\n",
    "        plt.figure(figsize=(8, 6))\n",
    "        sns.heatmap(cm, annot=True, fmt='d', cmap='Blues',\n",
    "                    xticklabels=np.unique(y_test), yticklabels=np.unique(y_test))\n",
    "        plt.xlabel('Predicted')\n",
    "        plt.ylabel('Actual')\n",
    "        plt.title(f'Confusion Matrix - {imbalance_method}')\n",
    "\n",
    "        os.makedirs(\"artifacts\", exist_ok=True)\n",
    "        cm_path = f\"artifacts/confusion_matrix_{imbalance_method}.png\"\n",
    "        plt.savefig(cm_path)\n",
    "        plt.close()\n",
    "\n",
    "        mlflow.log_artifact(cm_path)\n",
    "\n",
    "\n",
    "# Run all methods\n",
    "imbalance_methods = ['class_weight', 'oversampling', 'undersampling', 'smoteenn', 'adasyn']\n",
    "for method in imbalance_methods:\n",
    "    run_imbalanced_exp(method)\n"
   ]
  },
  {
   "cell_type": "code",
   "execution_count": null,
   "id": "33c68861",
   "metadata": {},
   "outputs": [],
   "source": []
  },
  {
   "cell_type": "code",
   "execution_count": null,
   "id": "bf95ef2a",
   "metadata": {},
   "outputs": [],
   "source": []
  },
  {
   "cell_type": "code",
   "execution_count": null,
   "id": "9349b7f1",
   "metadata": {},
   "outputs": [],
   "source": []
  },
  {
   "cell_type": "code",
   "execution_count": null,
   "id": "776c1d36",
   "metadata": {},
   "outputs": [],
   "source": []
  },
  {
   "cell_type": "code",
   "execution_count": null,
   "id": "c407e331",
   "metadata": {},
   "outputs": [],
   "source": []
  },
  {
   "cell_type": "code",
   "execution_count": null,
   "id": "35c49cfa",
   "metadata": {},
   "outputs": [],
   "source": []
  },
  {
   "cell_type": "code",
   "execution_count": null,
   "id": "956b22da",
   "metadata": {},
   "outputs": [],
   "source": []
  },
  {
   "cell_type": "code",
   "execution_count": null,
   "id": "ad38c708",
   "metadata": {},
   "outputs": [],
   "source": []
  }
 ],
 "metadata": {
  "kernelspec": {
   "display_name": "venv",
   "language": "python",
   "name": "python3"
  },
  "language_info": {
   "codemirror_mode": {
    "name": "ipython",
    "version": 3
   },
   "file_extension": ".py",
   "mimetype": "text/x-python",
   "name": "python",
   "nbconvert_exporter": "python",
   "pygments_lexer": "ipython3",
   "version": "3.12.0"
  }
 },
 "nbformat": 4,
 "nbformat_minor": 5
}
