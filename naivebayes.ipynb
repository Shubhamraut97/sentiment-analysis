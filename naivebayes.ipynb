{
 "cells": [
  {
   "cell_type": "code",
   "execution_count": 1,
   "id": "e79e03c8",
   "metadata": {},
   "outputs": [
    {
     "data": {
      "text/html": [
       "<pre style=\"white-space:pre;overflow-x:auto;line-height:normal;font-family:Menlo,'DejaVu Sans Mono',consolas,'Courier New',monospace\">Accessing as Shubhamraut97\n",
       "</pre>\n"
      ],
      "text/plain": [
       "Accessing as Shubhamraut97\n"
      ]
     },
     "metadata": {},
     "output_type": "display_data"
    },
    {
     "data": {
      "text/html": [
       "<pre style=\"white-space:pre;overflow-x:auto;line-height:normal;font-family:Menlo,'DejaVu Sans Mono',consolas,'Courier New',monospace\">Initialized MLflow to track repo <span style=\"color: #008000; text-decoration-color: #008000\">\"Shubhamraut97/experemntracking\"</span>\n",
       "</pre>\n"
      ],
      "text/plain": [
       "Initialized MLflow to track repo \u001b[32m\"Shubhamraut97/experemntracking\"\u001b[0m\n"
      ]
     },
     "metadata": {},
     "output_type": "display_data"
    },
    {
     "data": {
      "text/html": [
       "<pre style=\"white-space:pre;overflow-x:auto;line-height:normal;font-family:Menlo,'DejaVu Sans Mono',consolas,'Courier New',monospace\">Repository Shubhamraut97/experemntracking initialized!\n",
       "</pre>\n"
      ],
      "text/plain": [
       "Repository Shubhamraut97/experemntracking initialized!\n"
      ]
     },
     "metadata": {},
     "output_type": "display_data"
    }
   ],
   "source": [
    "import dagshub\n",
    "dagshub.init(repo_owner='Shubhamraut97', repo_name='experemntracking', mlflow=True)"
   ]
  },
  {
   "cell_type": "code",
   "execution_count": 2,
   "id": "5e4d5832",
   "metadata": {},
   "outputs": [],
   "source": [
    "import mlflow\n",
    "import mlflow.sklearn\n"
   ]
  },
  {
   "cell_type": "code",
   "execution_count": 3,
   "id": "aab2bfd5",
   "metadata": {},
   "outputs": [],
   "source": [
    "mlflow.set_tracking_uri(\"https://dagshub.com/Shubhamraut97/experemntracking.mlflow\")"
   ]
  },
  {
   "cell_type": "code",
   "execution_count": 4,
   "id": "2a3b2e5a",
   "metadata": {},
   "outputs": [
    {
     "name": "stderr",
     "output_type": "stream",
     "text": [
      "/Users/shubham/Desktop/sentimentanalysis/venv/lib/python3.12/site-packages/tqdm/auto.py:21: TqdmWarning: IProgress not found. Please update jupyter and ipywidgets. See https://ipywidgets.readthedocs.io/en/stable/user_install.html\n",
      "  from .autonotebook import tqdm as notebook_tqdm\n"
     ]
    }
   ],
   "source": [
    "import optuna\n",
    "from sklearn.model_selection import train_test_split\n",
    "\n",
    "from sklearn.metrics import accuracy_score, classification_report, confusion_matrix\n",
    "import pandas as pd\n",
    "import numpy as np\n",
    "import os\n",
    "import seaborn as sns\n",
    "import matplotlib.pyplot as plt\n",
    "from sklearn.feature_extraction.text import TfidfVectorizer\n",
    "from sklearn.svm import SVC\n",
    "from sklearn.linear_model import LogisticRegression\n",
    "from lightgbm import LGBMClassifier\n",
    "from xgboost import XGBClassifier\n",
    "from imblearn.over_sampling import SMOTE\n",
    "from sklearn.naive_bayes import MultinomialNB\n",
    "from sklearn.neighbors import KNeighborsClassifier\n",
    "\n"
   ]
  },
  {
   "cell_type": "code",
   "execution_count": 5,
   "id": "11530c96",
   "metadata": {},
   "outputs": [
    {
     "data": {
      "text/plain": [
       "<Experiment: artifact_location='mlflow-artifacts:/c6df735b6d4d46aa9236a6a6da7dd0f6', creation_time=1753701898670, experiment_id='6', last_update_time=1753701898670, lifecycle_stage='active', name='mdoel selection experiment', tags={}>"
      ]
     },
     "execution_count": 5,
     "metadata": {},
     "output_type": "execute_result"
    }
   ],
   "source": [
    "mlflow.set_experiment(\"mdoel selection experiment\")"
   ]
  },
  {
   "cell_type": "code",
   "execution_count": 6,
   "id": "6e2884ef",
   "metadata": {},
   "outputs": [
    {
     "data": {
      "text/plain": [
       "(36661, 2)"
      ]
     },
     "execution_count": 6,
     "metadata": {},
     "output_type": "execute_result"
    }
   ],
   "source": [
    "df= pd.read_csv('processed_data.csv').dropna(subset=['clean_comment'])\n",
    "df.shape"
   ]
  },
  {
   "cell_type": "code",
   "execution_count": 7,
   "id": "a637a154",
   "metadata": {},
   "outputs": [],
   "source": [
    "df['category'] = df['category'].map({-1: 2, 0: 0, 1: 1})\n"
   ]
  },
  {
   "cell_type": "code",
   "execution_count": 8,
   "id": "678ec5eb",
   "metadata": {},
   "outputs": [],
   "source": [
    "df=df.dropna(subset=['category'])"
   ]
  },
  {
   "cell_type": "code",
   "execution_count": 9,
   "id": "6f79f06a",
   "metadata": {},
   "outputs": [
    {
     "name": "stderr",
     "output_type": "stream",
     "text": [
      "[I 2025-07-28 17:59:47,605] A new study created in memory with name: no-name-0b1acb0b-f797-41b8-97bf-1b1ca6fca4ad\n",
      "[I 2025-07-28 17:59:47,615] Trial 0 finished with value: 0.7244768547875713 and parameters: {'alpha': 1.1723702147167556, 'fit_prior': False}. Best is trial 0 with value: 0.7244768547875713.\n",
      "[I 2025-07-28 17:59:47,622] Trial 1 finished with value: 0.7272246882265906 and parameters: {'alpha': 0.5337633940546134, 'fit_prior': False}. Best is trial 1 with value: 0.7272246882265906.\n",
      "[I 2025-07-28 17:59:47,691] Trial 2 finished with value: 0.7217290213485521 and parameters: {'alpha': 1.979405384336242, 'fit_prior': True}. Best is trial 1 with value: 0.7272246882265906.\n",
      "[I 2025-07-28 17:59:47,698] Trial 3 finished with value: 0.7240541111815684 and parameters: {'alpha': 1.4030674153528104, 'fit_prior': True}. Best is trial 1 with value: 0.7272246882265906.\n",
      "[I 2025-07-28 17:59:47,704] Trial 4 finished with value: 0.7293384062566054 and parameters: {'alpha': 0.21197128043911648, 'fit_prior': False}. Best is trial 4 with value: 0.7293384062566054.\n",
      "[I 2025-07-28 17:59:47,711] Trial 5 finished with value: 0.7266962587190868 and parameters: {'alpha': 0.7165019878364776, 'fit_prior': True}. Best is trial 4 with value: 0.7293384062566054.\n",
      "[I 2025-07-28 17:59:47,718] Trial 6 finished with value: 0.7224688226590573 and parameters: {'alpha': 1.8536915805980938, 'fit_prior': True}. Best is trial 4 with value: 0.7293384062566054.\n",
      "[I 2025-07-28 17:59:47,725] Trial 7 finished with value: 0.7227858803635595 and parameters: {'alpha': 1.8130618927395832, 'fit_prior': True}. Best is trial 4 with value: 0.7293384062566054.\n",
      "[I 2025-07-28 17:59:47,731] Trial 8 finished with value: 0.725005284295075 and parameters: {'alpha': 1.0266689582320934, 'fit_prior': False}. Best is trial 4 with value: 0.7293384062566054.\n",
      "[I 2025-07-28 17:59:47,739] Trial 9 finished with value: 0.7215176495455506 and parameters: {'alpha': 1.9876457902751197, 'fit_prior': False}. Best is trial 4 with value: 0.7293384062566054.\n",
      "[I 2025-07-28 17:59:47,750] Trial 10 finished with value: 0.7305009511731135 and parameters: {'alpha': 0.03571255602262022, 'fit_prior': False}. Best is trial 10 with value: 0.7305009511731135.\n",
      "[I 2025-07-28 17:59:47,759] Trial 11 finished with value: 0.7297611498626083 and parameters: {'alpha': 0.08086906904562624, 'fit_prior': False}. Best is trial 10 with value: 0.7305009511731135.\n",
      "[I 2025-07-28 17:59:47,770] Trial 12 finished with value: 0.7306066370746143 and parameters: {'alpha': 0.015006712881769912, 'fit_prior': False}. Best is trial 12 with value: 0.7306066370746143.\n",
      "[I 2025-07-28 17:59:47,778] Trial 13 finished with value: 0.7275417459310928 and parameters: {'alpha': 0.3618150813910381, 'fit_prior': False}. Best is trial 12 with value: 0.7306066370746143.\n",
      "[I 2025-07-28 17:59:47,787] Trial 14 finished with value: 0.7302895793701121 and parameters: {'alpha': 0.044685921785429364, 'fit_prior': False}. Best is trial 12 with value: 0.7306066370746143.\n",
      "[I 2025-07-28 17:59:47,795] Trial 15 finished with value: 0.7266962587190868 and parameters: {'alpha': 0.6960421221638946, 'fit_prior': False}. Best is trial 12 with value: 0.7306066370746143.\n",
      "[I 2025-07-28 17:59:47,804] Trial 16 finished with value: 0.7277531177340942 and parameters: {'alpha': 0.3364853152503773, 'fit_prior': False}. Best is trial 12 with value: 0.7306066370746143.\n",
      "[I 2025-07-28 17:59:47,812] Trial 17 finished with value: 0.7268019446205876 and parameters: {'alpha': 0.6230207876023457, 'fit_prior': False}. Best is trial 12 with value: 0.7306066370746143.\n",
      "[I 2025-07-28 17:59:47,821] Trial 18 finished with value: 0.7306066370746143 and parameters: {'alpha': 0.017567311827824065, 'fit_prior': False}. Best is trial 12 with value: 0.7306066370746143.\n",
      "[I 2025-07-28 17:59:47,828] Trial 19 finished with value: 0.7275417459310928 and parameters: {'alpha': 0.3599375506681774, 'fit_prior': False}. Best is trial 12 with value: 0.7306066370746143.\n",
      "[I 2025-07-28 17:59:47,837] Trial 20 finished with value: 0.7256393997040794 and parameters: {'alpha': 0.8773394963709173, 'fit_prior': False}. Best is trial 12 with value: 0.7306066370746143.\n",
      "[I 2025-07-28 17:59:47,845] Trial 21 finished with value: 0.7302895793701121 and parameters: {'alpha': 0.042740780614035946, 'fit_prior': False}. Best is trial 12 with value: 0.7306066370746143.\n",
      "[I 2025-07-28 17:59:47,854] Trial 22 finished with value: 0.7293384062566054 and parameters: {'alpha': 0.21253168920622978, 'fit_prior': False}. Best is trial 12 with value: 0.7306066370746143.\n",
      "[I 2025-07-28 17:59:47,862] Trial 23 finished with value: 0.7272246882265906 and parameters: {'alpha': 0.45488165252909973, 'fit_prior': False}. Best is trial 12 with value: 0.7306066370746143.\n",
      "[I 2025-07-28 17:59:47,871] Trial 24 finished with value: 0.7295497780596069 and parameters: {'alpha': 0.20439243314041963, 'fit_prior': False}. Best is trial 12 with value: 0.7306066370746143.\n",
      "[I 2025-07-28 17:59:47,879] Trial 25 finished with value: 0.7238427393785669 and parameters: {'alpha': 1.4535764484903513, 'fit_prior': False}. Best is trial 12 with value: 0.7306066370746143.\n",
      "[I 2025-07-28 17:59:47,888] Trial 26 finished with value: 0.7297611498626083 and parameters: {'alpha': 0.17149772235703112, 'fit_prior': True}. Best is trial 12 with value: 0.7306066370746143.\n",
      "[I 2025-07-28 17:59:47,896] Trial 27 finished with value: 0.7306066370746143 and parameters: {'alpha': 0.011325799040346788, 'fit_prior': False}. Best is trial 12 with value: 0.7306066370746143.\n",
      "[I 2025-07-28 17:59:47,906] Trial 28 finished with value: 0.7272246882265906 and parameters: {'alpha': 0.4505915313669467, 'fit_prior': False}. Best is trial 12 with value: 0.7306066370746143.\n",
      "[I 2025-07-28 17:59:47,913] Trial 29 finished with value: 0.7257450856055803 and parameters: {'alpha': 0.871329602737032, 'fit_prior': False}. Best is trial 12 with value: 0.7306066370746143.\n"
     ]
    },
    {
     "name": "stdout",
     "output_type": "stream",
     "text": [
      "🏃 View run MultinomialNB at: https://dagshub.com/Shubhamraut97/experemntracking.mlflow/#/experiments/6/runs/97e612b2ab354875ab56e200d40bdba9\n",
      "🧪 View experiment at: https://dagshub.com/Shubhamraut97/experemntracking.mlflow/#/experiments/6\n"
     ]
    }
   ],
   "source": [
    "n_grams = (1, 3)\n",
    "max_features = 1000\n",
    "vectorizer = TfidfVectorizer(ngram_range=n_grams, max_features=max_features)\n",
    "X = vectorizer.fit_transform(df['clean_comment'])\n",
    "y = df['category']\n",
    "\n",
    "smote = SMOTE(random_state=42)\n",
    "X_resampled, y_resampled = smote.fit_resample(X, y)\n",
    "X_train, X_test, y_train, y_test = train_test_split(\n",
    "    X_resampled, y_resampled, test_size=0.2, random_state=42, stratify=y_resampled\n",
    ")\n",
    "def log_mlflow(model_name, model, X_train, y_train, X_test, y_test):\n",
    "    with mlflow.start_run(run_name=model_name):\n",
    "        mlflow.log_param(\"model_name\", model_name)\n",
    "        mlflow.log_param(\"n_grams\", n_grams)\n",
    "        mlflow.log_param(\"max_features\", max_features)\n",
    "\n",
    "        model.fit(X_train, y_train)\n",
    "        y_pred = model.predict(X_test)\n",
    "\n",
    "        acc = accuracy_score(y_test, y_pred)\n",
    "        mlflow.log_metric(\"accuracy\", acc)\n",
    "\n",
    "        report = classification_report(y_test, y_pred, output_dict=True)\n",
    "        for label, metrics in report.items():\n",
    "            if isinstance(metrics, dict):\n",
    "                for metric_name, value in metrics.items():\n",
    "                    mlflow.log_metric(f\"{label}_{metric_name}\", value)\n",
    "def objective_multinomial_nb(trial):\n",
    "    alpha = trial.suggest_float(\"alpha\", 0.01, 2.0)\n",
    "    fit_prior = trial.suggest_categorical(\"fit_prior\", [True, False])\n",
    "\n",
    "    model = MultinomialNB(alpha=alpha, fit_prior=fit_prior)\n",
    "    model.fit(X_train, y_train)\n",
    "    y_pred = model.predict(X_test)\n",
    "\n",
    "    return accuracy_score(y_test, y_pred)\n",
    "\n",
    "# Run the tuning + logging\n",
    "def run_optuna_multinomial_nb():\n",
    "    study = optuna.create_study(direction=\"maximize\")\n",
    "    study.optimize(objective_multinomial_nb, n_trials=30)\n",
    "\n",
    "    best_params = study.best_params\n",
    "    best_model = MultinomialNB(**best_params)\n",
    "\n",
    "    log_mlflow(\"MultinomialNB\", best_model, X_train, y_train, X_test, y_test)\n",
    "\n",
    "# Call it\n",
    "run_optuna_multinomial_nb()\n",
    "\n"
   ]
  },
  {
   "cell_type": "code",
   "execution_count": null,
   "id": "b8e0be7d",
   "metadata": {},
   "outputs": [],
   "source": []
  },
  {
   "cell_type": "code",
   "execution_count": null,
   "id": "3fbdf5c3",
   "metadata": {},
   "outputs": [],
   "source": []
  },
  {
   "cell_type": "code",
   "execution_count": null,
   "id": "8c47f87a",
   "metadata": {},
   "outputs": [],
   "source": []
  }
 ],
 "metadata": {
  "kernelspec": {
   "display_name": "venv",
   "language": "python",
   "name": "python3"
  },
  "language_info": {
   "codemirror_mode": {
    "name": "ipython",
    "version": 3
   },
   "file_extension": ".py",
   "mimetype": "text/x-python",
   "name": "python",
   "nbconvert_exporter": "python",
   "pygments_lexer": "ipython3",
   "version": "3.12.0"
  }
 },
 "nbformat": 4,
 "nbformat_minor": 5
}
