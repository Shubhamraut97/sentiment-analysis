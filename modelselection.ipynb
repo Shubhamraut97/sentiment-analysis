{
 "cells": [
  {
   "cell_type": "code",
   "execution_count": 1,
   "id": "27baf7b8",
   "metadata": {},
   "outputs": [
    {
     "data": {
      "text/html": [
       "<pre style=\"white-space:pre;overflow-x:auto;line-height:normal;font-family:Menlo,'DejaVu Sans Mono',consolas,'Courier New',monospace\">Accessing as Shubhamraut97\n",
       "</pre>\n"
      ],
      "text/plain": [
       "Accessing as Shubhamraut97\n"
      ]
     },
     "metadata": {},
     "output_type": "display_data"
    },
    {
     "data": {
      "text/html": [
       "<pre style=\"white-space:pre;overflow-x:auto;line-height:normal;font-family:Menlo,'DejaVu Sans Mono',consolas,'Courier New',monospace\">Initialized MLflow to track repo <span style=\"color: #008000; text-decoration-color: #008000\">\"Shubhamraut97/experemntracking\"</span>\n",
       "</pre>\n"
      ],
      "text/plain": [
       "Initialized MLflow to track repo \u001b[32m\"Shubhamraut97/experemntracking\"\u001b[0m\n"
      ]
     },
     "metadata": {},
     "output_type": "display_data"
    },
    {
     "data": {
      "text/html": [
       "<pre style=\"white-space:pre;overflow-x:auto;line-height:normal;font-family:Menlo,'DejaVu Sans Mono',consolas,'Courier New',monospace\">Repository Shubhamraut97/experemntracking initialized!\n",
       "</pre>\n"
      ],
      "text/plain": [
       "Repository Shubhamraut97/experemntracking initialized!\n"
      ]
     },
     "metadata": {},
     "output_type": "display_data"
    }
   ],
   "source": [
    "import dagshub\n",
    "dagshub.init(repo_owner='Shubhamraut97', repo_name='experemntracking', mlflow=True)"
   ]
  },
  {
   "cell_type": "code",
   "execution_count": 2,
   "id": "b87b6dc1",
   "metadata": {},
   "outputs": [],
   "source": [
    "import mlflow\n",
    "import mlflow.sklearn\n"
   ]
  },
  {
   "cell_type": "code",
   "execution_count": 3,
   "id": "5786fb7f",
   "metadata": {},
   "outputs": [],
   "source": [
    "mlflow.set_tracking_uri(\"https://dagshub.com/Shubhamraut97/experemntracking.mlflow\")"
   ]
  },
  {
   "cell_type": "code",
   "execution_count": 11,
   "id": "84ddbf75",
   "metadata": {},
   "outputs": [],
   "source": [
    "import optuna\n",
    "from sklearn.model_selection import train_test_split\n",
    "\n",
    "from sklearn.metrics import accuracy_score, classification_report, confusion_matrix\n",
    "import pandas as pd\n",
    "import numpy as np\n",
    "import os\n",
    "import seaborn as sns\n",
    "import matplotlib.pyplot as plt\n",
    "from sklearn.feature_extraction.text import TfidfVectorizer\n",
    "from sklearn.svm import SVC\n",
    "from sklearn.linear_model import LogisticRegression\n",
    "from lightgbm import LGBMClassifier\n",
    "from xgboost import XGBClassifier\n",
    "from imblearn.over_sampling import SMOTE\n",
    "from sklearn.naive_bayes import MultinomialNB\n",
    "from sklearn.neighbors import KNeighborsClassifier\n",
    "\n"
   ]
  },
  {
   "cell_type": "code",
   "execution_count": null,
   "id": "a9a4935b",
   "metadata": {},
   "outputs": [
    {
     "data": {
      "text/plain": [
       "<Experiment: artifact_location='mlflow-artifacts:/c6df735b6d4d46aa9236a6a6da7dd0f6', creation_time=1753701898670, experiment_id='6', last_update_time=1753701898670, lifecycle_stage='active', name='mdoel selection experiment', tags={}>"
      ]
     },
     "execution_count": 5,
     "metadata": {},
     "output_type": "execute_result"
    }
   ],
   "source": [
    "mlflow.set_experiment(\"mdoel selection experiment\")"
   ]
  },
  {
   "cell_type": "code",
   "execution_count": 6,
   "id": "54b3fa28",
   "metadata": {},
   "outputs": [
    {
     "data": {
      "text/plain": [
       "(36661, 2)"
      ]
     },
     "execution_count": 6,
     "metadata": {},
     "output_type": "execute_result"
    }
   ],
   "source": [
    "df= pd.read_csv('processed_data.csv').dropna(subset=['clean_comment'])\n",
    "df.shape"
   ]
  },
  {
   "cell_type": "code",
   "execution_count": null,
   "id": "a2e84e1d",
   "metadata": {},
   "outputs": [
    {
     "data": {
      "text/plain": [
       "0        1\n",
       "1        1\n",
       "2       -1\n",
       "3        0\n",
       "4        1\n",
       "        ..\n",
       "36788    0\n",
       "36789    1\n",
       "36790    0\n",
       "36791    1\n",
       "36792    0\n",
       "Name: category, Length: 36661, dtype: int64"
      ]
     },
     "execution_count": 7,
     "metadata": {},
     "output_type": "execute_result"
    }
   ],
   "source": [
    "df['category']"
   ]
  },
  {
   "cell_type": "code",
   "execution_count": 8,
   "id": "24a5b8bc",
   "metadata": {},
   "outputs": [],
   "source": [
    "df['category'] = df['category'].map({-1: 2, 0: 0, 1: 1})\n"
   ]
  },
  {
   "cell_type": "code",
   "execution_count": null,
   "id": "1fcad7a9",
   "metadata": {},
   "outputs": [
    {
     "data": {
      "text/plain": [
       "0        1\n",
       "1        1\n",
       "2        2\n",
       "3        0\n",
       "4        1\n",
       "        ..\n",
       "36788    0\n",
       "36789    1\n",
       "36790    0\n",
       "36791    1\n",
       "36792    0\n",
       "Name: category, Length: 36661, dtype: int64"
      ]
     },
     "execution_count": 9,
     "metadata": {},
     "output_type": "execute_result"
    }
   ],
   "source": [
    "df['category']"
   ]
  },
  {
   "cell_type": "code",
   "execution_count": 10,
   "id": "c23a6244",
   "metadata": {},
   "outputs": [],
   "source": [
    "df=df.dropna(subset=['category'])"
   ]
  },
  {
   "cell_type": "code",
   "execution_count": 12,
   "id": "8d6f2276",
   "metadata": {},
   "outputs": [
    {
     "name": "stderr",
     "output_type": "stream",
     "text": [
      "[I 2025-07-28 17:25:36,425] A new study created in memory with name: no-name-8ec6e7b3-4c74-4378-8270-8514d56b67e6\n",
      "/Users/shubham/Desktop/sentimentanalysis/venv/lib/python3.12/site-packages/xgboost/training.py:183: UserWarning: [17:25:36] WARNING: /Users/runner/work/xgboost/xgboost/src/learner.cc:738: \n",
      "Parameters: { \"use_label_encoder\" } are not used.\n",
      "\n",
      "  bst.update(dtrain, iteration=i, fobj=obj)\n",
      "[I 2025-07-28 17:26:30,130] Trial 0 finished with value: 0.8224476854787571 and parameters: {'n_estimators': 195, 'max_depth': 14, 'learning_rate': 0.22131207528165736}. Best is trial 0 with value: 0.8224476854787571.\n",
      "/Users/shubham/Desktop/sentimentanalysis/venv/lib/python3.12/site-packages/xgboost/training.py:183: UserWarning: [17:26:30] WARNING: /Users/runner/work/xgboost/xgboost/src/learner.cc:738: \n",
      "Parameters: { \"use_label_encoder\" } are not used.\n",
      "\n",
      "  bst.update(dtrain, iteration=i, fobj=obj)\n",
      "[I 2025-07-28 17:26:34,691] Trial 1 finished with value: 0.7974001268230818 and parameters: {'n_estimators': 180, 'max_depth': 3, 'learning_rate': 0.28196710504476696}. Best is trial 0 with value: 0.8224476854787571.\n",
      "/Users/shubham/Desktop/sentimentanalysis/venv/lib/python3.12/site-packages/xgboost/training.py:183: UserWarning: [17:26:34] WARNING: /Users/runner/work/xgboost/xgboost/src/learner.cc:738: \n",
      "Parameters: { \"use_label_encoder\" } are not used.\n",
      "\n",
      "  bst.update(dtrain, iteration=i, fobj=obj)\n",
      "[I 2025-07-28 17:27:26,985] Trial 2 finished with value: 0.6924540266328472 and parameters: {'n_estimators': 70, 'max_depth': 14, 'learning_rate': 0.014368037871799019}. Best is trial 0 with value: 0.8224476854787571.\n",
      "/Users/shubham/Desktop/sentimentanalysis/venv/lib/python3.12/site-packages/xgboost/training.py:183: UserWarning: [17:27:27] WARNING: /Users/runner/work/xgboost/xgboost/src/learner.cc:738: \n",
      "Parameters: { \"use_label_encoder\" } are not used.\n",
      "\n",
      "  bst.update(dtrain, iteration=i, fobj=obj)\n",
      "[I 2025-07-28 17:27:31,151] Trial 3 finished with value: 0.7714013950538998 and parameters: {'n_estimators': 160, 'max_depth': 3, 'learning_rate': 0.17521909513564665}. Best is trial 0 with value: 0.8224476854787571.\n",
      "/Users/shubham/Desktop/sentimentanalysis/venv/lib/python3.12/site-packages/xgboost/training.py:183: UserWarning: [17:27:31] WARNING: /Users/runner/work/xgboost/xgboost/src/learner.cc:738: \n",
      "Parameters: { \"use_label_encoder\" } are not used.\n",
      "\n",
      "  bst.update(dtrain, iteration=i, fobj=obj)\n",
      "[I 2025-07-28 17:27:37,123] Trial 4 finished with value: 0.6984781230183893 and parameters: {'n_estimators': 196, 'max_depth': 3, 'learning_rate': 0.043032038104888606}. Best is trial 0 with value: 0.8224476854787571.\n",
      "/Users/shubham/Desktop/sentimentanalysis/venv/lib/python3.12/site-packages/xgboost/training.py:183: UserWarning: [17:27:37] WARNING: /Users/runner/work/xgboost/xgboost/src/learner.cc:738: \n",
      "Parameters: { \"use_label_encoder\" } are not used.\n",
      "\n",
      "  bst.update(dtrain, iteration=i, fobj=obj)\n",
      "[I 2025-07-28 17:28:52,300] Trial 5 finished with value: 0.774571972098922 and parameters: {'n_estimators': 196, 'max_depth': 12, 'learning_rate': 0.03317485002264381}. Best is trial 0 with value: 0.8224476854787571.\n",
      "/Users/shubham/Desktop/sentimentanalysis/venv/lib/python3.12/site-packages/xgboost/training.py:183: UserWarning: [17:28:52] WARNING: /Users/runner/work/xgboost/xgboost/src/learner.cc:738: \n",
      "Parameters: { \"use_label_encoder\" } are not used.\n",
      "\n",
      "  bst.update(dtrain, iteration=i, fobj=obj)\n",
      "[I 2025-07-28 17:29:03,903] Trial 6 finished with value: 0.7543859649122807 and parameters: {'n_estimators': 170, 'max_depth': 5, 'learning_rate': 0.0694732022852483}. Best is trial 0 with value: 0.8224476854787571.\n",
      "/Users/shubham/Desktop/sentimentanalysis/venv/lib/python3.12/site-packages/xgboost/training.py:183: UserWarning: [17:29:03] WARNING: /Users/runner/work/xgboost/xgboost/src/learner.cc:738: \n",
      "Parameters: { \"use_label_encoder\" } are not used.\n",
      "\n",
      "  bst.update(dtrain, iteration=i, fobj=obj)\n",
      "[I 2025-07-28 17:29:45,373] Trial 7 finished with value: 0.8084971464806595 and parameters: {'n_estimators': 86, 'max_depth': 15, 'learning_rate': 0.16858076409954267}. Best is trial 0 with value: 0.8224476854787571.\n",
      "/Users/shubham/Desktop/sentimentanalysis/venv/lib/python3.12/site-packages/xgboost/training.py:183: UserWarning: [17:29:45] WARNING: /Users/runner/work/xgboost/xgboost/src/learner.cc:738: \n",
      "Parameters: { \"use_label_encoder\" } are not used.\n",
      "\n",
      "  bst.update(dtrain, iteration=i, fobj=obj)\n",
      "[I 2025-07-28 17:30:22,938] Trial 8 finished with value: 0.8130416402451913 and parameters: {'n_estimators': 133, 'max_depth': 13, 'learning_rate': 0.14510849659783726}. Best is trial 0 with value: 0.8224476854787571.\n",
      "/Users/shubham/Desktop/sentimentanalysis/venv/lib/python3.12/site-packages/xgboost/training.py:183: UserWarning: [17:30:22] WARNING: /Users/runner/work/xgboost/xgboost/src/learner.cc:738: \n",
      "Parameters: { \"use_label_encoder\" } are not used.\n",
      "\n",
      "  bst.update(dtrain, iteration=i, fobj=obj)\n",
      "[I 2025-07-28 17:30:32,106] Trial 9 finished with value: 0.7628408370323398 and parameters: {'n_estimators': 73, 'max_depth': 7, 'learning_rate': 0.12520586506978934}. Best is trial 0 with value: 0.8224476854787571.\n",
      "/Users/shubham/Desktop/sentimentanalysis/venv/lib/python3.12/site-packages/xgboost/training.py:183: UserWarning: [17:30:32] WARNING: /Users/runner/work/xgboost/xgboost/src/learner.cc:738: \n",
      "Parameters: { \"use_label_encoder\" } are not used.\n",
      "\n",
      "  bst.update(dtrain, iteration=i, fobj=obj)\n",
      "[I 2025-07-28 17:30:48,167] Trial 10 finished with value: 0.8120904671316846 and parameters: {'n_estimators': 114, 'max_depth': 9, 'learning_rate': 0.2740791279717152}. Best is trial 0 with value: 0.8224476854787571.\n",
      "/Users/shubham/Desktop/sentimentanalysis/venv/lib/python3.12/site-packages/xgboost/training.py:183: UserWarning: [17:30:48] WARNING: /Users/runner/work/xgboost/xgboost/src/learner.cc:738: \n",
      "Parameters: { \"use_label_encoder\" } are not used.\n",
      "\n",
      "  bst.update(dtrain, iteration=i, fobj=obj)\n",
      "[I 2025-07-28 17:31:17,660] Trial 11 finished with value: 0.8168463326992179 and parameters: {'n_estimators': 140, 'max_depth': 12, 'learning_rate': 0.21245675994795327}. Best is trial 0 with value: 0.8224476854787571.\n",
      "/Users/shubham/Desktop/sentimentanalysis/venv/lib/python3.12/site-packages/xgboost/training.py:183: UserWarning: [17:31:17] WARNING: /Users/runner/work/xgboost/xgboost/src/learner.cc:738: \n",
      "Parameters: { \"use_label_encoder\" } are not used.\n",
      "\n",
      "  bst.update(dtrain, iteration=i, fobj=obj)\n",
      "[I 2025-07-28 17:31:44,084] Trial 12 finished with value: 0.8158951595857112 and parameters: {'n_estimators': 140, 'max_depth': 11, 'learning_rate': 0.22931947183917706}. Best is trial 0 with value: 0.8224476854787571.\n",
      "/Users/shubham/Desktop/sentimentanalysis/venv/lib/python3.12/site-packages/xgboost/training.py:183: UserWarning: [17:31:44] WARNING: /Users/runner/work/xgboost/xgboost/src/learner.cc:738: \n",
      "Parameters: { \"use_label_encoder\" } are not used.\n",
      "\n",
      "  bst.update(dtrain, iteration=i, fobj=obj)\n",
      "[I 2025-07-28 17:32:04,587] Trial 13 finished with value: 0.8125132107376876 and parameters: {'n_estimators': 115, 'max_depth': 10, 'learning_rate': 0.22091033211459649}. Best is trial 0 with value: 0.8224476854787571.\n",
      "/Users/shubham/Desktop/sentimentanalysis/venv/lib/python3.12/site-packages/xgboost/training.py:183: UserWarning: [17:32:04] WARNING: /Users/runner/work/xgboost/xgboost/src/learner.cc:738: \n",
      "Parameters: { \"use_label_encoder\" } are not used.\n",
      "\n",
      "  bst.update(dtrain, iteration=i, fobj=obj)\n",
      "[I 2025-07-28 17:32:50,404] Trial 14 finished with value: 0.8186429930247305 and parameters: {'n_estimators': 152, 'max_depth': 15, 'learning_rate': 0.23055081753007647}. Best is trial 0 with value: 0.8224476854787571.\n",
      "/Users/shubham/Desktop/sentimentanalysis/venv/lib/python3.12/site-packages/xgboost/training.py:183: UserWarning: [17:32:50] WARNING: /Users/runner/work/xgboost/xgboost/src/learner.cc:738: \n",
      "Parameters: { \"use_label_encoder\" } are not used.\n",
      "\n",
      "  bst.update(dtrain, iteration=i, fobj=obj)\n",
      "[I 2025-07-28 17:33:29,637] Trial 15 finished with value: 0.8210737687592475 and parameters: {'n_estimators': 154, 'max_depth': 15, 'learning_rate': 0.25202446818761787}. Best is trial 0 with value: 0.8224476854787571.\n",
      "/Users/shubham/Desktop/sentimentanalysis/venv/lib/python3.12/site-packages/xgboost/training.py:183: UserWarning: [17:33:29] WARNING: /Users/runner/work/xgboost/xgboost/src/learner.cc:738: \n",
      "Parameters: { \"use_label_encoder\" } are not used.\n",
      "\n",
      "  bst.update(dtrain, iteration=i, fobj=obj)\n",
      "[I 2025-07-28 17:33:47,973] Trial 16 finished with value: 0.8183259353202282 and parameters: {'n_estimators': 175, 'max_depth': 8, 'learning_rate': 0.29771276770427035}. Best is trial 0 with value: 0.8224476854787571.\n",
      "/Users/shubham/Desktop/sentimentanalysis/venv/lib/python3.12/site-packages/xgboost/training.py:183: UserWarning: [17:33:47] WARNING: /Users/runner/work/xgboost/xgboost/src/learner.cc:738: \n",
      "Parameters: { \"use_label_encoder\" } are not used.\n",
      "\n",
      "  bst.update(dtrain, iteration=i, fobj=obj)\n",
      "[I 2025-07-28 17:34:28,680] Trial 17 finished with value: 0.8168463326992179 and parameters: {'n_estimators': 200, 'max_depth': 13, 'learning_rate': 0.2566280282027951}. Best is trial 0 with value: 0.8224476854787571.\n",
      "/Users/shubham/Desktop/sentimentanalysis/venv/lib/python3.12/site-packages/xgboost/training.py:183: UserWarning: [17:34:28] WARNING: /Users/runner/work/xgboost/xgboost/src/learner.cc:738: \n",
      "Parameters: { \"use_label_encoder\" } are not used.\n",
      "\n",
      "  bst.update(dtrain, iteration=i, fobj=obj)\n",
      "[I 2025-07-28 17:35:06,922] Trial 18 finished with value: 0.8147326146692031 and parameters: {'n_estimators': 106, 'max_depth': 15, 'learning_rate': 0.19175860249766288}. Best is trial 0 with value: 0.8224476854787571.\n",
      "/Users/shubham/Desktop/sentimentanalysis/venv/lib/python3.12/site-packages/xgboost/training.py:183: UserWarning: [17:35:07] WARNING: /Users/runner/work/xgboost/xgboost/src/learner.cc:738: \n",
      "Parameters: { \"use_label_encoder\" } are not used.\n",
      "\n",
      "  bst.update(dtrain, iteration=i, fobj=obj)\n",
      "[I 2025-07-28 17:35:27,835] Trial 19 finished with value: 0.7777425491439443 and parameters: {'n_estimators': 50, 'max_depth': 13, 'learning_rate': 0.1251387152645741}. Best is trial 0 with value: 0.8224476854787571.\n",
      "/Users/shubham/Desktop/sentimentanalysis/venv/lib/python3.12/site-packages/xgboost/training.py:183: UserWarning: [17:35:27] WARNING: /Users/runner/work/xgboost/xgboost/src/learner.cc:738: \n",
      "Parameters: { \"use_label_encoder\" } are not used.\n",
      "\n",
      "  bst.update(dtrain, iteration=i, fobj=obj)\n",
      "[I 2025-07-28 17:35:59,026] Trial 20 finished with value: 0.8196998520397379 and parameters: {'n_estimators': 181, 'max_depth': 11, 'learning_rate': 0.25379754173223595}. Best is trial 0 with value: 0.8224476854787571.\n",
      "/Users/shubham/Desktop/sentimentanalysis/venv/lib/python3.12/site-packages/xgboost/training.py:183: UserWarning: [17:35:59] WARNING: /Users/runner/work/xgboost/xgboost/src/learner.cc:738: \n",
      "Parameters: { \"use_label_encoder\" } are not used.\n",
      "\n",
      "  bst.update(dtrain, iteration=i, fobj=obj)\n",
      "[I 2025-07-28 17:36:31,214] Trial 21 finished with value: 0.8191714225322342 and parameters: {'n_estimators': 183, 'max_depth': 11, 'learning_rate': 0.24603080045046094}. Best is trial 0 with value: 0.8224476854787571.\n",
      "/Users/shubham/Desktop/sentimentanalysis/venv/lib/python3.12/site-packages/xgboost/training.py:183: UserWarning: [17:36:31] WARNING: /Users/runner/work/xgboost/xgboost/src/learner.cc:738: \n",
      "Parameters: { \"use_label_encoder\" } are not used.\n",
      "\n",
      "  bst.update(dtrain, iteration=i, fobj=obj)\n",
      "[I 2025-07-28 17:37:24,069] Trial 22 finished with value: 0.8195941661382372 and parameters: {'n_estimators': 160, 'max_depth': 14, 'learning_rate': 0.2522499173206067}. Best is trial 0 with value: 0.8224476854787571.\n",
      "/Users/shubham/Desktop/sentimentanalysis/venv/lib/python3.12/site-packages/xgboost/training.py:183: UserWarning: [17:37:24] WARNING: /Users/runner/work/xgboost/xgboost/src/learner.cc:738: \n",
      "Parameters: { \"use_label_encoder\" } are not used.\n",
      "\n",
      "  bst.update(dtrain, iteration=i, fobj=obj)\n",
      "[I 2025-07-28 17:38:19,872] Trial 23 finished with value: 0.8191714225322342 and parameters: {'n_estimators': 186, 'max_depth': 14, 'learning_rate': 0.20414618385106983}. Best is trial 0 with value: 0.8224476854787571.\n",
      "/Users/shubham/Desktop/sentimentanalysis/venv/lib/python3.12/site-packages/xgboost/training.py:183: UserWarning: [17:38:19] WARNING: /Users/runner/work/xgboost/xgboost/src/learner.cc:738: \n",
      "Parameters: { \"use_label_encoder\" } are not used.\n",
      "\n",
      "  bst.update(dtrain, iteration=i, fobj=obj)\n",
      "[I 2025-07-28 17:38:49,471] Trial 24 finished with value: 0.8183259353202282 and parameters: {'n_estimators': 166, 'max_depth': 11, 'learning_rate': 0.27254777990359075}. Best is trial 0 with value: 0.8224476854787571.\n",
      "/Users/shubham/Desktop/sentimentanalysis/venv/lib/python3.12/site-packages/xgboost/training.py:183: UserWarning: [17:38:49] WARNING: /Users/runner/work/xgboost/xgboost/src/learner.cc:738: \n",
      "Parameters: { \"use_label_encoder\" } are not used.\n",
      "\n",
      "  bst.update(dtrain, iteration=i, fobj=obj)\n",
      "[I 2025-07-28 17:39:19,880] Trial 25 finished with value: 0.8163179031917143 and parameters: {'n_estimators': 153, 'max_depth': 12, 'learning_rate': 0.243807699028655}. Best is trial 0 with value: 0.8224476854787571.\n",
      "/Users/shubham/Desktop/sentimentanalysis/venv/lib/python3.12/site-packages/xgboost/training.py:183: UserWarning: [17:39:19] WARNING: /Users/runner/work/xgboost/xgboost/src/learner.cc:738: \n",
      "Parameters: { \"use_label_encoder\" } are not used.\n",
      "\n",
      "  bst.update(dtrain, iteration=i, fobj=obj)\n",
      "[I 2025-07-28 17:39:45,052] Trial 26 finished with value: 0.8146269287677024 and parameters: {'n_estimators': 188, 'max_depth': 9, 'learning_rate': 0.18367073643616308}. Best is trial 0 with value: 0.8224476854787571.\n",
      "/Users/shubham/Desktop/sentimentanalysis/venv/lib/python3.12/site-packages/xgboost/training.py:183: UserWarning: [17:39:45] WARNING: /Users/runner/work/xgboost/xgboost/src/learner.cc:738: \n",
      "Parameters: { \"use_label_encoder\" } are not used.\n",
      "\n",
      "  bst.update(dtrain, iteration=i, fobj=obj)\n",
      "[I 2025-07-28 17:40:24,041] Trial 27 finished with value: 0.8196998520397379 and parameters: {'n_estimators': 172, 'max_depth': 14, 'learning_rate': 0.2970641053498759}. Best is trial 0 with value: 0.8224476854787571.\n",
      "/Users/shubham/Desktop/sentimentanalysis/venv/lib/python3.12/site-packages/xgboost/training.py:183: UserWarning: [17:40:24] WARNING: /Users/runner/work/xgboost/xgboost/src/learner.cc:738: \n",
      "Parameters: { \"use_label_encoder\" } are not used.\n",
      "\n",
      "  bst.update(dtrain, iteration=i, fobj=obj)\n",
      "[I 2025-07-28 17:40:37,708] Trial 28 finished with value: 0.8123018389346861 and parameters: {'n_estimators': 148, 'max_depth': 7, 'learning_rate': 0.26807480705756326}. Best is trial 0 with value: 0.8224476854787571.\n",
      "/Users/shubham/Desktop/sentimentanalysis/venv/lib/python3.12/site-packages/xgboost/training.py:183: UserWarning: [17:40:37] WARNING: /Users/runner/work/xgboost/xgboost/src/learner.cc:738: \n",
      "Parameters: { \"use_label_encoder\" } are not used.\n",
      "\n",
      "  bst.update(dtrain, iteration=i, fobj=obj)\n",
      "[I 2025-07-28 17:41:27,926] Trial 29 finished with value: 0.8207567110547453 and parameters: {'n_estimators': 179, 'max_depth': 15, 'learning_rate': 0.20546678986247166}. Best is trial 0 with value: 0.8224476854787571.\n",
      "/Users/shubham/Desktop/sentimentanalysis/venv/lib/python3.12/site-packages/xgboost/training.py:183: UserWarning: [17:41:31] WARNING: /Users/runner/work/xgboost/xgboost/src/learner.cc:738: \n",
      "Parameters: { \"use_label_encoder\" } are not used.\n",
      "\n",
      "  bst.update(dtrain, iteration=i, fobj=obj)\n"
     ]
    },
    {
     "name": "stdout",
     "output_type": "stream",
     "text": [
      "🏃 View run XGBoost at: https://dagshub.com/Shubhamraut97/experemntracking.mlflow/#/experiments/6/runs/bdc6874fc470452ba705679a84655352\n",
      "🧪 View experiment at: https://dagshub.com/Shubhamraut97/experemntracking.mlflow/#/experiments/6\n"
     ]
    }
   ],
   "source": [
    "# TF-IDF and resampling\n",
    "n_grams = (1, 3)\n",
    "max_features = 1000\n",
    "vectorizer = TfidfVectorizer(ngram_range=n_grams, max_features=max_features)\n",
    "X = vectorizer.fit_transform(df['clean_comment'])\n",
    "y = df['category']\n",
    "\n",
    "smote = SMOTE(random_state=42)\n",
    "X_resampled, y_resampled = smote.fit_resample(X, y)\n",
    "X_train, X_test, y_train, y_test = train_test_split(\n",
    "    X_resampled, y_resampled, test_size=0.2, random_state=42, stratify=y_resampled\n",
    ")\n",
    "\n",
    "# MLflow logging\n",
    "def log_mlflow(model_name, model, X_train, y_train, X_test, y_test):\n",
    "    with mlflow.start_run(run_name=model_name):\n",
    "        mlflow.log_param(\"model_name\", model_name)\n",
    "        mlflow.log_param(\"n_grams\", n_grams)\n",
    "        mlflow.log_param(\"max_features\", max_features)\n",
    "\n",
    "        model.fit(X_train, y_train)\n",
    "        y_pred = model.predict(X_test)\n",
    "\n",
    "        acc = accuracy_score(y_test, y_pred)\n",
    "        mlflow.log_metric(\"accuracy\", acc)\n",
    "\n",
    "        report = classification_report(y_test, y_pred, output_dict=True)\n",
    "        for label, metrics in report.items():\n",
    "            if isinstance(metrics, dict):\n",
    "                for metric_name, value in metrics.items():\n",
    "                    mlflow.log_metric(f\"{label}_{metric_name}\", value)\n",
    "\n",
    "# Optuna objective function for XGBoost\n",
    "def objective_xgboost(trial):\n",
    "    n_estimators = trial.suggest_int(\"n_estimators\", 50, 200)\n",
    "    max_depth = trial.suggest_int(\"max_depth\", 3, 15)\n",
    "    learning_rate = trial.suggest_float(\"learning_rate\", 0.01, 0.3)\n",
    "    # Removed class_weight\n",
    "    model = XGBClassifier(\n",
    "        n_estimators=n_estimators,\n",
    "        max_depth=max_depth,\n",
    "        learning_rate=learning_rate,\n",
    "        use_label_encoder=False,\n",
    "        eval_metric='mlogloss',\n",
    "        random_state=42\n",
    "    )\n",
    "    model.fit(X_train, y_train)\n",
    "    preds = model.predict(X_test)\n",
    "    return accuracy_score(y_test, preds)\n",
    "\n",
    "# Run optimization and log best\n",
    "def run_optuna_xgboost():\n",
    "    study = optuna.create_study(direction=\"maximize\")\n",
    "    study.optimize(objective_xgboost, n_trials=30)\n",
    "    best_params = study.best_params\n",
    "\n",
    "    best_model = XGBClassifier(\n",
    "        **best_params,\n",
    "        use_label_encoder=False,\n",
    "        eval_metric='mlogloss',\n",
    "        random_state=42\n",
    "    )\n",
    "\n",
    "    log_mlflow(\"XGBoost\", best_model, X_train, y_train, X_test, y_test)\n",
    "\n",
    "run_optuna_xgboost()\n"
   ]
  },
  {
   "cell_type": "code",
   "execution_count": null,
   "id": "628193d0",
   "metadata": {},
   "outputs": [],
   "source": []
  },
  {
   "cell_type": "code",
   "execution_count": null,
   "id": "0204fee8",
   "metadata": {},
   "outputs": [],
   "source": []
  },
  {
   "cell_type": "code",
   "execution_count": null,
   "id": "2291348e",
   "metadata": {},
   "outputs": [],
   "source": []
  },
  {
   "cell_type": "code",
   "execution_count": null,
   "id": "5d794983",
   "metadata": {},
   "outputs": [],
   "source": []
  },
  {
   "cell_type": "code",
   "execution_count": null,
   "id": "9459b4cb",
   "metadata": {},
   "outputs": [],
   "source": []
  },
  {
   "cell_type": "code",
   "execution_count": null,
   "id": "b54a1118",
   "metadata": {},
   "outputs": [],
   "source": []
  }
 ],
 "metadata": {
  "kernelspec": {
   "display_name": "venv",
   "language": "python",
   "name": "python3"
  },
  "language_info": {
   "codemirror_mode": {
    "name": "ipython",
    "version": 3
   },
   "file_extension": ".py",
   "mimetype": "text/x-python",
   "name": "python",
   "nbconvert_exporter": "python",
   "pygments_lexer": "ipython3",
   "version": "3.12.0"
  }
 },
 "nbformat": 4,
 "nbformat_minor": 5
}
