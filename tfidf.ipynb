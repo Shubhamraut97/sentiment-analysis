{
 "cells": [
  {
   "cell_type": "code",
   "execution_count": 7,
   "id": "6b224bd9",
   "metadata": {},
   "outputs": [],
   "source": [
    "import os\n",
    "import mlflow\n",
    "import joblib\n",
    "import seaborn as sns\n",
    "import matplotlib.pyplot as plt\n",
    "from sklearn.model_selection import train_test_split\n",
    "from sklearn.ensemble import RandomForestClassifier\n",
    "from sklearn.metrics import accuracy_score, classification_report, confusion_matrix\n",
    "from sklearn.feature_extraction.text import TfidfVectorizer\n"
   ]
  },
  {
   "cell_type": "code",
   "execution_count": 2,
   "id": "bbde91e0",
   "metadata": {},
   "outputs": [],
   "source": [
    "df=pd.read_csv('processed_data.csv').dropna(subset=['clean_comment'])"
   ]
  },
  {
   "cell_type": "code",
   "execution_count": 3,
   "id": "ce2ee68e",
   "metadata": {},
   "outputs": [
    {
     "data": {
      "text/html": [
       "<pre style=\"white-space:pre;overflow-x:auto;line-height:normal;font-family:Menlo,'DejaVu Sans Mono',consolas,'Courier New',monospace\">Accessing as Shubhamraut97\n",
       "</pre>\n"
      ],
      "text/plain": [
       "Accessing as Shubhamraut97\n"
      ]
     },
     "metadata": {},
     "output_type": "display_data"
    },
    {
     "data": {
      "text/html": [
       "<pre style=\"white-space:pre;overflow-x:auto;line-height:normal;font-family:Menlo,'DejaVu Sans Mono',consolas,'Courier New',monospace\">Initialized MLflow to track repo <span style=\"color: #008000; text-decoration-color: #008000\">\"Shubhamraut97/experemntracking\"</span>\n",
       "</pre>\n"
      ],
      "text/plain": [
       "Initialized MLflow to track repo \u001b[32m\"Shubhamraut97/experemntracking\"\u001b[0m\n"
      ]
     },
     "metadata": {},
     "output_type": "display_data"
    },
    {
     "data": {
      "text/html": [
       "<pre style=\"white-space:pre;overflow-x:auto;line-height:normal;font-family:Menlo,'DejaVu Sans Mono',consolas,'Courier New',monospace\">Repository Shubhamraut97/experemntracking initialized!\n",
       "</pre>\n"
      ],
      "text/plain": [
       "Repository Shubhamraut97/experemntracking initialized!\n"
      ]
     },
     "metadata": {},
     "output_type": "display_data"
    }
   ],
   "source": [
    "import dagshub\n",
    "dagshub.init(repo_owner='Shubhamraut97', repo_name='experemntracking', mlflow=True)"
   ]
  },
  {
   "cell_type": "code",
   "execution_count": 5,
   "id": "291894c2",
   "metadata": {},
   "outputs": [],
   "source": [
    "mlflow.set_tracking_uri(\"https://dagshub.com/Shubhamraut97/experemntracking.mlflow\")"
   ]
  },
  {
   "cell_type": "code",
   "execution_count": 6,
   "id": "0aff75ff",
   "metadata": {},
   "outputs": [
    {
     "name": "stderr",
     "output_type": "stream",
     "text": [
      "2025/07/26 21:46:49 INFO mlflow.tracking.fluent: Experiment with name 'tfidf trigram' does not exist. Creating a new experiment.\n"
     ]
    },
    {
     "data": {
      "text/plain": [
       "<Experiment: artifact_location='mlflow-artifacts:/a6fbfec9be1b46ad940338fcbf9d36c1', creation_time=1753545709938, experiment_id='3', last_update_time=1753545709938, lifecycle_stage='active', name='tfidf trigram', tags={}>"
      ]
     },
     "execution_count": 6,
     "metadata": {},
     "output_type": "execute_result"
    }
   ],
   "source": [
    "mlflow.set_experiment(\"tfidf trigram\")"
   ]
  },
  {
   "cell_type": "code",
   "execution_count": null,
   "id": "68785130",
   "metadata": {},
   "outputs": [
    {
     "name": "stdout",
     "output_type": "stream",
     "text": [
      "✅ Completed: max_features=1000 | Accuracy: 0.6679\n",
      "🏃 View run dapper-dog-218 at: https://dagshub.com/Shubhamraut97/experemntracking.mlflow/#/experiments/3/runs/c367d71bd10f4cd5a54b93c8c3389e91\n",
      "🧪 View experiment at: https://dagshub.com/Shubhamraut97/experemntracking.mlflow/#/experiments/3\n",
      "✅ Completed: max_features=2000 | Accuracy: 0.6553\n",
      "🏃 View run capricious-horse-79 at: https://dagshub.com/Shubhamraut97/experemntracking.mlflow/#/experiments/3/runs/953e011f90394b5db5408f0118f92cde\n",
      "🧪 View experiment at: https://dagshub.com/Shubhamraut97/experemntracking.mlflow/#/experiments/3\n",
      "✅ Completed: max_features=3000 | Accuracy: 0.6525\n",
      "🏃 View run monumental-frog-727 at: https://dagshub.com/Shubhamraut97/experemntracking.mlflow/#/experiments/3/runs/4ec9255dcdc64a10928a3420f74c09a0\n",
      "🧪 View experiment at: https://dagshub.com/Shubhamraut97/experemntracking.mlflow/#/experiments/3\n",
      "✅ Completed: max_features=4000 | Accuracy: 0.6475\n",
      "🏃 View run respected-turtle-316 at: https://dagshub.com/Shubhamraut97/experemntracking.mlflow/#/experiments/3/runs/59a561ee0a14479e99e6666dab88a2a6\n",
      "🧪 View experiment at: https://dagshub.com/Shubhamraut97/experemntracking.mlflow/#/experiments/3\n",
      "✅ Completed: max_features=5000 | Accuracy: 0.6482\n",
      "🏃 View run nervous-cub-924 at: https://dagshub.com/Shubhamraut97/experemntracking.mlflow/#/experiments/3/runs/30a06171ef9d4fe08c47fa7e9e7cc83e\n",
      "🧪 View experiment at: https://dagshub.com/Shubhamraut97/experemntracking.mlflow/#/experiments/3\n",
      "✅ Completed: max_features=6000 | Accuracy: 0.6513\n",
      "🏃 View run aged-skunk-41 at: https://dagshub.com/Shubhamraut97/experemntracking.mlflow/#/experiments/3/runs/a7631b05a39c4d0bb778b737ad24d502\n",
      "🧪 View experiment at: https://dagshub.com/Shubhamraut97/experemntracking.mlflow/#/experiments/3\n",
      "✅ Completed: max_features=7000 | Accuracy: 0.6510\n",
      "🏃 View run monumental-dove-414 at: https://dagshub.com/Shubhamraut97/experemntracking.mlflow/#/experiments/3/runs/b58dd694a19f4e268b7f3c5dfa39f5a4\n",
      "🧪 View experiment at: https://dagshub.com/Shubhamraut97/experemntracking.mlflow/#/experiments/3\n",
      "✅ Completed: max_features=8000 | Accuracy: 0.6547\n",
      "🏃 View run bald-kit-550 at: https://dagshub.com/Shubhamraut97/experemntracking.mlflow/#/experiments/3/runs/607c3feb8ad44ad1a3e388c18a8ce922\n",
      "🧪 View experiment at: https://dagshub.com/Shubhamraut97/experemntracking.mlflow/#/experiments/3\n",
      "✅ Completed: max_features=9000 | Accuracy: 0.6516\n",
      "🏃 View run receptive-stork-943 at: https://dagshub.com/Shubhamraut97/experemntracking.mlflow/#/experiments/3/runs/851221717946439d93c4fb31e640e175\n",
      "🧪 View experiment at: https://dagshub.com/Shubhamraut97/experemntracking.mlflow/#/experiments/3\n",
      "✅ Completed: max_features=10000 | Accuracy: 0.6464\n",
      "🏃 View run vaunted-cod-105 at: https://dagshub.com/Shubhamraut97/experemntracking.mlflow/#/experiments/3/runs/2f754a97bc8e468f8f5cface9454d9d3\n",
      "🧪 View experiment at: https://dagshub.com/Shubhamraut97/experemntracking.mlflow/#/experiments/3\n"
     ]
    }
   ],
   "source": [
    "\n",
    "def runexperiment(max_features):\n",
    "    ngram_range = (1, 3)\n",
    "    vectorizer = TfidfVectorizer(ngram_range=ngram_range, max_features=max_features)\n",
    "    X_train, X_test, y_train, y_test = train_test_split(df['clean_comment'], df['category'], test_size=0.2, random_state=42)\n",
    "    X_train = vectorizer.fit_transform(X_train)\n",
    "    X_test = vectorizer.transform(X_test)\n",
    "\n",
    "\n",
    "    with mlflow.start_run():\n",
    "        # Log parameters and tags\n",
    "        mlflow.log_params({\n",
    "            \"vectorizer\": \"tfidf\",\n",
    "            \"ngram_range\": str(ngram_range),\n",
    "            \"max_features\": max_features,\n",
    "            \"n_estimators\": 200,\n",
    "            \"max_depth\": 15\n",
    "        })\n",
    "        mlflow.set_tags({\n",
    "            \"experiment_type\": \"vectorizer_tuning\",\n",
    "            \"vectorizer\": \"tfidf\"\n",
    "        })\n",
    "\n",
    "        # Model training\n",
    "        model = RandomForestClassifier(n_estimators=200, max_depth=15, random_state=42)\n",
    "        model.fit(X_train, y_train)\n",
    "        y_pred = model.predict(X_test)\n",
    "\n",
    "        # Log metrics\n",
    "        accuracy = accuracy_score(y_test, y_pred)\n",
    "        mlflow.log_metric(\"accuracy\", accuracy)\n",
    "\n",
    "        classification_rep = classification_report(y_test, y_pred, output_dict=True)\n",
    "        for label, metrics in classification_rep.items():\n",
    "            if isinstance(metrics, dict):\n",
    "                for metric_name, value in metrics.items():\n",
    "                    mlflow.log_metric(f\"{label}_{metric_name}\", value)\n",
    "\n",
    "        # Confusion matrix plot\n",
    "        cm = confusion_matrix(y_test, y_pred)\n",
    "        plt.figure(figsize=(8, 6))\n",
    "        sns.heatmap(cm, annot=True, fmt='d', cmap='Blues')\n",
    "        plt.title('Confusion Matrix')\n",
    "        plt.xlabel('Predicted')\n",
    "        plt.ylabel('Actual')\n",
    "        plot_path = \"confusion_matrix.png\"\n",
    "        plt.savefig(plot_path)\n",
    "        plt.close()\n",
    "        mlflow.log_artifact(plot_path)\n",
    "        os.remove(plot_path)\n",
    "\n",
    "        # Save and log model\n",
    "        model_path = f\"rf_model_{max_features}.pkl\"\n",
    "        joblib.dump(model, model_path)\n",
    "        mlflow.log_artifact(model_path)\n",
    "        os.remove(model_path)\n",
    "\n",
    "        print(f\"✅ Completed: max_features={max_features} | Accuracy: {accuracy:.4f}\")\n",
    "\n",
    "# Run experiments\n",
    "max_features_list = [1000, 2000, 3000, 4000, 5000, 6000, 7000, 8000, 9000, 10000]\n",
    "for max_features in max_features_list:\n",
    "    runexperiment(max_features)\n"
   ]
  },
  {
   "cell_type": "code",
   "execution_count": null,
   "id": "2beeca82",
   "metadata": {},
   "outputs": [],
   "source": []
  },
  {
   "cell_type": "code",
   "execution_count": null,
   "id": "90294014",
   "metadata": {},
   "outputs": [],
   "source": []
  },
  {
   "cell_type": "code",
   "execution_count": null,
   "id": "188f694d",
   "metadata": {},
   "outputs": [],
   "source": []
  },
  {
   "cell_type": "code",
   "execution_count": null,
   "id": "4af1225c",
   "metadata": {},
   "outputs": [],
   "source": []
  }
 ],
 "metadata": {
  "kernelspec": {
   "display_name": "venv",
   "language": "python",
   "name": "python3"
  },
  "language_info": {
   "codemirror_mode": {
    "name": "ipython",
    "version": 3
   },
   "file_extension": ".py",
   "mimetype": "text/x-python",
   "name": "python",
   "nbconvert_exporter": "python",
   "pygments_lexer": "ipython3",
   "version": "3.12.0"
  }
 },
 "nbformat": 4,
 "nbformat_minor": 5
}
