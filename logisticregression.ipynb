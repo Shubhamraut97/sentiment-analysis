{
 "cells": [
  {
   "cell_type": "code",
   "execution_count": 1,
   "id": "7a418380",
   "metadata": {},
   "outputs": [
    {
     "data": {
      "text/html": [
       "<pre style=\"white-space:pre;overflow-x:auto;line-height:normal;font-family:Menlo,'DejaVu Sans Mono',consolas,'Courier New',monospace\">Accessing as Shubhamraut97\n",
       "</pre>\n"
      ],
      "text/plain": [
       "Accessing as Shubhamraut97\n"
      ]
     },
     "metadata": {},
     "output_type": "display_data"
    },
    {
     "data": {
      "text/html": [
       "<pre style=\"white-space:pre;overflow-x:auto;line-height:normal;font-family:Menlo,'DejaVu Sans Mono',consolas,'Courier New',monospace\">Initialized MLflow to track repo <span style=\"color: #008000; text-decoration-color: #008000\">\"Shubhamraut97/experemntracking\"</span>\n",
       "</pre>\n"
      ],
      "text/plain": [
       "Initialized MLflow to track repo \u001b[32m\"Shubhamraut97/experemntracking\"\u001b[0m\n"
      ]
     },
     "metadata": {},
     "output_type": "display_data"
    },
    {
     "data": {
      "text/html": [
       "<pre style=\"white-space:pre;overflow-x:auto;line-height:normal;font-family:Menlo,'DejaVu Sans Mono',consolas,'Courier New',monospace\">Repository Shubhamraut97/experemntracking initialized!\n",
       "</pre>\n"
      ],
      "text/plain": [
       "Repository Shubhamraut97/experemntracking initialized!\n"
      ]
     },
     "metadata": {},
     "output_type": "display_data"
    }
   ],
   "source": [
    "import dagshub\n",
    "dagshub.init(repo_owner='Shubhamraut97', repo_name='experemntracking', mlflow=True)"
   ]
  },
  {
   "cell_type": "code",
   "execution_count": 2,
   "id": "4a0a75d5",
   "metadata": {},
   "outputs": [],
   "source": [
    "import mlflow\n",
    "import mlflow.sklearn\n"
   ]
  },
  {
   "cell_type": "code",
   "execution_count": 3,
   "id": "f076bfea",
   "metadata": {},
   "outputs": [],
   "source": [
    "mlflow.set_tracking_uri(\"https://dagshub.com/Shubhamraut97/experemntracking.mlflow\")"
   ]
  },
  {
   "cell_type": "code",
   "execution_count": 4,
   "id": "2b89b00b",
   "metadata": {},
   "outputs": [
    {
     "name": "stderr",
     "output_type": "stream",
     "text": [
      "/Users/shubham/Desktop/sentimentanalysis/venv/lib/python3.12/site-packages/tqdm/auto.py:21: TqdmWarning: IProgress not found. Please update jupyter and ipywidgets. See https://ipywidgets.readthedocs.io/en/stable/user_install.html\n",
      "  from .autonotebook import tqdm as notebook_tqdm\n"
     ]
    }
   ],
   "source": [
    "import optuna\n",
    "from sklearn.model_selection import train_test_split\n",
    "\n",
    "from sklearn.metrics import accuracy_score, classification_report, confusion_matrix\n",
    "import pandas as pd\n",
    "import numpy as np\n",
    "import os\n",
    "import seaborn as sns\n",
    "import matplotlib.pyplot as plt\n",
    "from sklearn.feature_extraction.text import TfidfVectorizer\n",
    "from sklearn.svm import SVC\n",
    "from sklearn.linear_model import LogisticRegression\n",
    "from lightgbm import LGBMClassifier\n",
    "from xgboost import XGBClassifier\n",
    "from imblearn.over_sampling import SMOTE\n",
    "from sklearn.naive_bayes import MultinomialNB\n",
    "from sklearn.neighbors import KNeighborsClassifier\n",
    "\n"
   ]
  },
  {
   "cell_type": "code",
   "execution_count": 5,
   "id": "38d36ff8",
   "metadata": {},
   "outputs": [
    {
     "data": {
      "text/plain": [
       "<Experiment: artifact_location='mlflow-artifacts:/c6df735b6d4d46aa9236a6a6da7dd0f6', creation_time=1753701898670, experiment_id='6', last_update_time=1753701898670, lifecycle_stage='active', name='mdoel selection experiment', tags={}>"
      ]
     },
     "execution_count": 5,
     "metadata": {},
     "output_type": "execute_result"
    }
   ],
   "source": [
    "mlflow.set_experiment(\"mdoel selection experiment\")"
   ]
  },
  {
   "cell_type": "code",
   "execution_count": 6,
   "id": "34becfb3",
   "metadata": {},
   "outputs": [
    {
     "data": {
      "text/plain": [
       "(36661, 2)"
      ]
     },
     "execution_count": 6,
     "metadata": {},
     "output_type": "execute_result"
    }
   ],
   "source": [
    "df= pd.read_csv('processed_data.csv').dropna(subset=['clean_comment'])\n",
    "df.shape"
   ]
  },
  {
   "cell_type": "code",
   "execution_count": 7,
   "id": "43960487",
   "metadata": {},
   "outputs": [],
   "source": [
    "df['category'] = df['category'].map({-1: 2, 0: 0, 1: 1})\n"
   ]
  },
  {
   "cell_type": "code",
   "execution_count": 8,
   "id": "362b110c",
   "metadata": {},
   "outputs": [],
   "source": [
    "df=df.dropna(subset=['category'])"
   ]
  },
  {
   "cell_type": "code",
   "execution_count": null,
   "id": "3edcc826",
   "metadata": {},
   "outputs": [
    {
     "name": "stderr",
     "output_type": "stream",
     "text": [
      "[I 2025-07-28 18:04:02,671] A new study created in memory with name: no-name-d3ec6fd1-4a9d-48ad-8453-c25a21e32993\n",
      "[I 2025-07-28 18:04:14,509] Trial 0 finished with value: 0.7828154724159797 and parameters: {'C': 0.7227397256621134, 'penalty': 'l1', 'solver': 'saga', 'class_weight': None}. Best is trial 0 with value: 0.7828154724159797.\n",
      "[I 2025-07-28 18:04:14,711] Trial 1 finished with value: 0.7508983301627563 and parameters: {'C': 0.18624391943381197, 'penalty': 'l2', 'solver': 'saga', 'class_weight': 'balanced'}. Best is trial 0 with value: 0.7828154724159797.\n",
      "[I 2025-07-28 18:04:14,858] Trial 2 finished with value: 0.7601986894948214 and parameters: {'C': 0.46634419731266247, 'penalty': 'l2', 'solver': 'liblinear', 'class_weight': None}. Best is trial 0 with value: 0.7828154724159797.\n",
      "[I 2025-07-28 18:04:14,933] Trial 3 finished with value: 0.7444514901712111 and parameters: {'C': 0.1043044904487482, 'penalty': 'l1', 'solver': 'liblinear', 'class_weight': None}. Best is trial 0 with value: 0.7828154724159797.\n",
      "[I 2025-07-28 18:04:15,095] Trial 4 finished with value: 0.7836609596279857 and parameters: {'C': 8.195025640706962, 'penalty': 'l1', 'solver': 'liblinear', 'class_weight': None}. Best is trial 4 with value: 0.7836609596279857.\n",
      "[I 2025-07-28 18:04:17,370] Trial 5 finished with value: 0.7755231452124287 and parameters: {'C': 0.2682241531096107, 'penalty': 'l1', 'solver': 'saga', 'class_weight': 'balanced'}. Best is trial 4 with value: 0.7836609596279857.\n",
      "[I 2025-07-28 18:04:17,485] Trial 6 finished with value: 0.751849503276263 and parameters: {'C': 0.2660135900369961, 'penalty': 'l2', 'solver': 'liblinear', 'class_weight': None}. Best is trial 4 with value: 0.7836609596279857.\n",
      "[I 2025-07-28 18:04:17,611] Trial 7 finished with value: 0.7553371380257874 and parameters: {'C': 0.32508088023911524, 'penalty': 'l2', 'solver': 'liblinear', 'class_weight': 'balanced'}. Best is trial 4 with value: 0.7836609596279857.\n",
      "[I 2025-07-28 18:04:17,800] Trial 8 finished with value: 0.7726696258719087 and parameters: {'C': 3.9529552573712867, 'penalty': 'l2', 'solver': 'saga', 'class_weight': 'balanced'}. Best is trial 4 with value: 0.7836609596279857.\n",
      "[I 2025-07-28 18:04:17,906] Trial 9 finished with value: 0.739272880997675 and parameters: {'C': 0.12901629405049125, 'penalty': 'l2', 'solver': 'liblinear', 'class_weight': 'balanced'}. Best is trial 4 with value: 0.7836609596279857.\n",
      "[I 2025-07-28 18:04:17,951] Trial 10 finished with value: 0.5262101035721835 and parameters: {'C': 0.011660124099448655, 'penalty': 'l1', 'solver': 'liblinear', 'class_weight': None}. Best is trial 4 with value: 0.7836609596279857.\n",
      "/Users/shubham/Desktop/sentimentanalysis/venv/lib/python3.12/site-packages/sklearn/linear_model/_sag.py:350: ConvergenceWarning: The max_iter was reached which means the coef_ did not converge\n",
      "  warnings.warn(\n",
      "[I 2025-07-28 18:08:29,937] Trial 11 finished with value: 0.7841893891354893 and parameters: {'C': 7.519954305631488, 'penalty': 'l1', 'solver': 'saga', 'class_weight': None}. Best is trial 11 with value: 0.7841893891354893.\n",
      "/Users/shubham/Desktop/sentimentanalysis/venv/lib/python3.12/site-packages/sklearn/linear_model/_sag.py:350: ConvergenceWarning: The max_iter was reached which means the coef_ did not converge\n",
      "  warnings.warn(\n",
      "[I 2025-07-28 18:12:55,734] Trial 12 finished with value: 0.7837666455294864 and parameters: {'C': 9.121054649473058, 'penalty': 'l1', 'solver': 'saga', 'class_weight': None}. Best is trial 11 with value: 0.7841893891354893.\n",
      "[I 2025-07-28 18:13:51,033] Trial 13 finished with value: 0.7839780173324878 and parameters: {'C': 1.879360121202883, 'penalty': 'l1', 'solver': 'saga', 'class_weight': None}. Best is trial 11 with value: 0.7841893891354893.\n",
      "[I 2025-07-28 18:14:54,816] Trial 14 finished with value: 0.7840837032339886 and parameters: {'C': 2.0381588175085708, 'penalty': 'l1', 'solver': 'saga', 'class_weight': None}. Best is trial 11 with value: 0.7841893891354893.\n",
      "[I 2025-07-28 18:15:45,311] Trial 15 finished with value: 0.7837666455294864 and parameters: {'C': 1.7382343552347448, 'penalty': 'l1', 'solver': 'saga', 'class_weight': None}. Best is trial 11 with value: 0.7841893891354893.\n",
      "[I 2025-07-28 18:17:03,399] Trial 16 finished with value: 0.7848235045444938 and parameters: {'C': 2.472369844438716, 'penalty': 'l1', 'solver': 'saga', 'class_weight': None}. Best is trial 16 with value: 0.7848235045444938.\n",
      "[I 2025-07-28 18:19:40,201] Trial 17 finished with value: 0.7844007609384908 and parameters: {'C': 4.270552826786066, 'penalty': 'l1', 'solver': 'saga', 'class_weight': None}. Best is trial 16 with value: 0.7848235045444938.\n",
      "[I 2025-07-28 18:19:59,651] Trial 18 finished with value: 0.7832382160219826 and parameters: {'C': 0.9228071623492733, 'penalty': 'l1', 'solver': 'saga', 'class_weight': None}. Best is trial 16 with value: 0.7848235045444938.\n",
      "[I 2025-07-28 18:21:57,391] Trial 19 finished with value: 0.7841893891354893 and parameters: {'C': 3.364854811512004, 'penalty': 'l1', 'solver': 'saga', 'class_weight': None}. Best is trial 16 with value: 0.7848235045444938.\n",
      "[I 2025-07-28 18:21:57,972] Trial 20 finished with value: 0.6946734305643627 and parameters: {'C': 0.04671474648404945, 'penalty': 'l1', 'solver': 'saga', 'class_weight': None}. Best is trial 16 with value: 0.7848235045444938.\n",
      "[I 2025-07-28 18:24:46,989] Trial 21 finished with value: 0.7844007609384908 and parameters: {'C': 4.512969997041645, 'penalty': 'l1', 'solver': 'saga', 'class_weight': None}. Best is trial 16 with value: 0.7848235045444938.\n",
      "[I 2025-07-28 18:26:52,353] Trial 22 finished with value: 0.78429507503699 and parameters: {'C': 3.6549852886209035, 'penalty': 'l1', 'solver': 'saga', 'class_weight': None}. Best is trial 16 with value: 0.7848235045444938.\n",
      "[I 2025-07-28 18:27:16,761] Trial 23 finished with value: 0.7820756711054745 and parameters: {'C': 1.0978505867231798, 'penalty': 'l1', 'solver': 'saga', 'class_weight': None}. Best is trial 16 with value: 0.7848235045444938.\n",
      "[I 2025-07-28 18:29:48,344] Trial 24 finished with value: 0.7844007609384908 and parameters: {'C': 4.256675317572293, 'penalty': 'l1', 'solver': 'saga', 'class_weight': None}. Best is trial 16 with value: 0.7848235045444938.\n",
      "[I 2025-07-28 18:33:42,616] Trial 25 finished with value: 0.7844007609384908 and parameters: {'C': 5.992344327494073, 'penalty': 'l1', 'solver': 'saga', 'class_weight': None}. Best is trial 16 with value: 0.7848235045444938.\n"
     ]
    }
   ],
   "source": [
    "n_grams = (1, 3)\n",
    "max_features = 1000\n",
    "vectorizer = TfidfVectorizer(ngram_range=n_grams, max_features=max_features)\n",
    "X = vectorizer.fit_transform(df['clean_comment'])\n",
    "y = df['category']\n",
    "\n",
    "smote = SMOTE(random_state=42)\n",
    "X_resampled, y_resampled = smote.fit_resample(X, y)\n",
    "X_train, X_test, y_train, y_test = train_test_split(\n",
    "    X_resampled, y_resampled, test_size=0.2, random_state=42, stratify=y_resampled\n",
    ")\n",
    "def log_mlflow(model_name, model, X_train, y_train, X_test, y_test):\n",
    "    with mlflow.start_run(run_name=model_name):\n",
    "        mlflow.log_param(\"model_name\", model_name)\n",
    "        mlflow.log_param(\"n_grams\", n_grams)\n",
    "        mlflow.log_param(\"max_features\", max_features)\n",
    "\n",
    "        model.fit(X_train, y_train)\n",
    "        y_pred = model.predict(X_test)\n",
    "\n",
    "        acc = accuracy_score(y_test, y_pred)\n",
    "        mlflow.log_metric(\"accuracy\", acc)\n",
    "\n",
    "        report = classification_report(y_test, y_pred, output_dict=True)\n",
    "        for label, metrics in report.items():\n",
    "            if isinstance(metrics, dict):\n",
    "                for metric_name, value in metrics.items():\n",
    "                    mlflow.log_metric(f\"{label}_{metric_name}\", value)\n",
    "def objective_logistic_regression(trial):\n",
    "    C = trial.suggest_float(\"C\", 0.01, 10.0, log=True)\n",
    "    penalty = trial.suggest_categorical(\"penalty\", [\"l1\", \"l2\"])\n",
    "    solver = trial.suggest_categorical(\"solver\", [\"liblinear\", \"saga\"])\n",
    "    class_weight = trial.suggest_categorical(\"class_weight\", [None, \"balanced\"])\n",
    "\n",
    "    # Some solvers don't support all penalties\n",
    "    if penalty == \"l1\" and solver not in [\"liblinear\", \"saga\"]:\n",
    "        raise optuna.exceptions.TrialPruned()\n",
    "\n",
    "    model = LogisticRegression(\n",
    "        C=C,\n",
    "        penalty=penalty,\n",
    "        solver=solver,\n",
    "        class_weight=class_weight,\n",
    "        max_iter=100,\n",
    "        random_state=42\n",
    "    )\n",
    "\n",
    "    model.fit(X_train, y_train)\n",
    "    y_pred = model.predict(X_test)\n",
    "    return accuracy_score(y_test, y_pred)\n",
    "\n",
    "def run_optuna_logistic_regression():\n",
    "    study = optuna.create_study(direction=\"maximize\")\n",
    "    study.optimize(objective_logistic_regression, n_trials=30)\n",
    "\n",
    "    best_params = study.best_params\n",
    "    best_model = LogisticRegression(**best_params, max_iter=1000, random_state=42)\n",
    "\n",
    "    log_mlflow(\"LogisticRegression\", best_model, X_train, y_train, X_test, y_test)\n",
    "\n",
    "# Run it\n",
    "run_optuna_logistic_regression()"
   ]
  },
  {
   "cell_type": "code",
   "execution_count": null,
   "id": "f0592ca7",
   "metadata": {},
   "outputs": [],
   "source": []
  },
  {
   "cell_type": "code",
   "execution_count": null,
   "id": "062f4e10",
   "metadata": {},
   "outputs": [],
   "source": []
  }
 ],
 "metadata": {
  "kernelspec": {
   "display_name": "venv",
   "language": "python",
   "name": "python3"
  },
  "language_info": {
   "codemirror_mode": {
    "name": "ipython",
    "version": 3
   },
   "file_extension": ".py",
   "mimetype": "text/x-python",
   "name": "python",
   "nbconvert_exporter": "python",
   "pygments_lexer": "ipython3",
   "version": "3.12.0"
  }
 },
 "nbformat": 4,
 "nbformat_minor": 5
}
